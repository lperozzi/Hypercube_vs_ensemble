{
 "cells": [
  {
   "cell_type": "code",
   "execution_count": 1,
   "metadata": {
    "collapsed": false
   },
   "outputs": [
    {
     "name": "stdout",
     "output_type": "stream",
     "text": [
      "CPython 2.7.12\n",
      "IPython 5.1.0\n",
      "\n",
      "numpy 1.11.2\n",
      "scipy 0.18.1\n",
      "pandas 0.16.2\n",
      "matplotlib 1.5.1\n",
      "seaborn 0.7.1\n",
      "sklearn 0.18\n"
     ]
    }
   ],
   "source": [
    "%matplotlib inline\n",
    "%load_ext watermark\n",
    "%watermark -v -p numpy,scipy,pandas,matplotlib,seaborn,sklearn"
   ]
  },
  {
   "cell_type": "code",
   "execution_count": 2,
   "metadata": {
    "collapsed": true
   },
   "outputs": [],
   "source": [
    "import pandas as pd\n",
    "import numpy as np\n",
    "import matplotlib as mpl\n",
    "import matplotlib.pyplot as plt\n",
    "import matplotlib.colors as colors\n",
    "from mpl_toolkits.axes_grid1 import make_axes_locatable\n",
    "# import seaborn as sns\n",
    "from time import time\n",
    "\n",
    "from pandas import set_option\n",
    "set_option(\"display.max_rows\", 20)\n",
    "pd.options.mode.chained_assignment = None"
   ]
  },
  {
   "cell_type": "markdown",
   "metadata": {},
   "source": [
    "### Load the header"
   ]
  },
  {
   "cell_type": "code",
   "execution_count": 3,
   "metadata": {
    "collapsed": false
   },
   "outputs": [],
   "source": [
    "work_dir = \"C:\\LC\\Private\\dominiquef\\Projects\\\\3796_AGIC_Research\\HyperCube\\MtDore_files_for_Hypercube\\Targeting_2015\"\n",
    "dataset_header = pd.read_csv(work_dir + '\\Datamatrix_header.txt', names=['Header'])\n",
    "header = dataset_header['Header'].tolist()"
   ]
  },
  {
   "cell_type": "code",
   "execution_count": 4,
   "metadata": {
    "collapsed": false
   },
   "outputs": [
    {
     "name": "stdout",
     "output_type": "stream",
     "text": [
      "<bound method DataFrame.head of                                      Header\n",
      "0                      Count_Fault_Crossing\n",
      "1                                Dist_2_CDI\n",
      "2                 distance_to_Fault_Network\n",
      "3                       Distance_to_AuGt150\n",
      "4                      Distance_to_CuGt2000\n",
      "5   Distance_to_high_curvature_along_faults\n",
      "6                    GRAV_effective_density\n",
      "7                               Gravity_1VD\n",
      "8                   Gravity_Analytic_Signal\n",
      "9                                      Kpct\n",
      "10                              PseudoLitho\n",
      "11                                 RockCode\n",
      "12                                    Thppm\n",
      "13                                  TMI_1VD\n",
      "14                      TMI_Analytic_Signal\n",
      "15                       TMI_effective_susc\n",
      "16                                 U_div_Th\n",
      "17                                     Uppm\n",
      "18                                  Outcome>\n"
     ]
    }
   ],
   "source": [
    "print dataset_header.head"
   ]
  },
  {
   "cell_type": "markdown",
   "metadata": {},
   "source": [
    "### Load the dataset"
   ]
  },
  {
   "cell_type": "code",
   "execution_count": 5,
   "metadata": {
    "collapsed": false
   },
   "outputs": [
    {
     "name": "stderr",
     "output_type": "stream",
     "text": [
      "C:\\Users\\dominiquef.MIRAGEOSCIENCE\\AppData\\Local\\Continuum\\Anaconda\\lib\\site-packages\\pandas\\io\\parsers.py:648: ParserWarning: Falling back to the 'python' engine because the 'c' engine does not support regex separators; you can avoid this warning by specifying engine='python'.\n",
      "  ParserWarning)\n"
     ]
    }
   ],
   "source": [
    "dataset_training = pd.read_csv(work_dir + '\\Dataset_all_training.dat', sep=\"  \", names=header)"
   ]
  },
  {
   "cell_type": "code",
   "execution_count": 6,
   "metadata": {
    "collapsed": false
   },
   "outputs": [],
   "source": [
    "# Change variable type\n",
    "dataset_training['PseudoLitho'] = dataset_training['PseudoLitho'].astype('int')\n",
    "dataset_training['RockCode'] = dataset_training['RockCode'].astype('int')\n",
    "dataset_training['Outcome'] = dataset_training['Outcome'].astype('int')"
   ]
  },
  {
   "cell_type": "markdown",
   "metadata": {},
   "source": [
    "New variable `Mineralization` indicate if the cell is mineralized (1) or not (0)"
   ]
  },
  {
   "cell_type": "code",
   "execution_count": 7,
   "metadata": {
    "collapsed": true
   },
   "outputs": [],
   "source": [
    "dataset_training['Class'] = dataset_training.apply(lambda row: 0 if row[\"Outcome\"] == 0 else 1, axis=1)"
   ]
  },
  {
   "cell_type": "markdown",
   "metadata": {},
   "source": [
    "Replce `NaN` values with -99999. The classifier is able to deal with extreme values outside of the variable range. "
   ]
  },
  {
   "cell_type": "code",
   "execution_count": 8,
   "metadata": {
    "collapsed": true
   },
   "outputs": [],
   "source": [
    "dataset_training.replace(to_replace=np.nan,value=-99999.0,inplace=True)"
   ]
  },
  {
   "cell_type": "code",
   "execution_count": 9,
   "metadata": {
    "collapsed": false
   },
   "outputs": [
    {
     "data": {
      "text/html": [
       "<div>\n",
       "<table border=\"1\" class=\"dataframe\">\n",
       "  <thead>\n",
       "    <tr style=\"text-align: right;\">\n",
       "      <th></th>\n",
       "      <th>Count_Fault_Crossing</th>\n",
       "      <th>Dist_2_CDI</th>\n",
       "      <th>distance_to_Fault_Network</th>\n",
       "      <th>Distance_to_AuGt150</th>\n",
       "      <th>Distance_to_CuGt2000</th>\n",
       "      <th>Distance_to_high_curvature_along_faults</th>\n",
       "      <th>GRAV_effective_density</th>\n",
       "      <th>Gravity_1VD</th>\n",
       "      <th>Gravity_Analytic_Signal</th>\n",
       "      <th>Kpct</th>\n",
       "      <th>PseudoLitho</th>\n",
       "      <th>RockCode</th>\n",
       "      <th>Thppm</th>\n",
       "      <th>TMI_1VD</th>\n",
       "      <th>TMI_Analytic_Signal</th>\n",
       "      <th>TMI_effective_susc</th>\n",
       "      <th>U_div_Th</th>\n",
       "      <th>Uppm</th>\n",
       "      <th>Outcome</th>\n",
       "      <th>Class</th>\n",
       "    </tr>\n",
       "  </thead>\n",
       "  <tbody>\n",
       "    <tr>\n",
       "      <th>count</th>\n",
       "      <td>748856.000000</td>\n",
       "      <td>748856.000000</td>\n",
       "      <td>748856.000000</td>\n",
       "      <td>748856.000000</td>\n",
       "      <td>748856.000000</td>\n",
       "      <td>748856.000000</td>\n",
       "      <td>748856.000000</td>\n",
       "      <td>748856.000000</td>\n",
       "      <td>748856.000000</td>\n",
       "      <td>748856.000000</td>\n",
       "      <td>748856.000000</td>\n",
       "      <td>748856.000000</td>\n",
       "      <td>748856.000000</td>\n",
       "      <td>748856.000000</td>\n",
       "      <td>748856.000000</td>\n",
       "      <td>748856.000000</td>\n",
       "      <td>748856.000000</td>\n",
       "      <td>748856.000000</td>\n",
       "      <td>748856.000000</td>\n",
       "      <td>748856.000000</td>\n",
       "    </tr>\n",
       "    <tr>\n",
       "      <th>mean</th>\n",
       "      <td>0.060804</td>\n",
       "      <td>2340.536986</td>\n",
       "      <td>3375.910952</td>\n",
       "      <td>7863.664750</td>\n",
       "      <td>3970.545994</td>\n",
       "      <td>4926.313706</td>\n",
       "      <td>-0.076733</td>\n",
       "      <td>-7.211228</td>\n",
       "      <td>-7.209100</td>\n",
       "      <td>1.979132</td>\n",
       "      <td>6.536771</td>\n",
       "      <td>7.915371</td>\n",
       "      <td>26.752967</td>\n",
       "      <td>0.005754</td>\n",
       "      <td>0.780903</td>\n",
       "      <td>0.075429</td>\n",
       "      <td>0.165614</td>\n",
       "      <td>3.638915</td>\n",
       "      <td>0.055907</td>\n",
       "      <td>0.003272</td>\n",
       "    </tr>\n",
       "    <tr>\n",
       "      <th>std</th>\n",
       "      <td>0.076219</td>\n",
       "      <td>2396.922399</td>\n",
       "      <td>3608.783990</td>\n",
       "      <td>5908.366423</td>\n",
       "      <td>3309.401231</td>\n",
       "      <td>4733.490670</td>\n",
       "      <td>0.137079</td>\n",
       "      <td>849.137478</td>\n",
       "      <td>849.137496</td>\n",
       "      <td>1.174467</td>\n",
       "      <td>4.130024</td>\n",
       "      <td>3.390040</td>\n",
       "      <td>23.482837</td>\n",
       "      <td>0.894300</td>\n",
       "      <td>1.022955</td>\n",
       "      <td>0.058222</td>\n",
       "      <td>1.501321</td>\n",
       "      <td>2.358552</td>\n",
       "      <td>1.123281</td>\n",
       "      <td>0.057105</td>\n",
       "    </tr>\n",
       "    <tr>\n",
       "      <th>min</th>\n",
       "      <td>0.000000</td>\n",
       "      <td>0.000128</td>\n",
       "      <td>0.006518</td>\n",
       "      <td>125.035000</td>\n",
       "      <td>125.560000</td>\n",
       "      <td>9.895720</td>\n",
       "      <td>-0.369478</td>\n",
       "      <td>-99999.000000</td>\n",
       "      <td>-99999.000000</td>\n",
       "      <td>-0.299976</td>\n",
       "      <td>1.000000</td>\n",
       "      <td>1.000000</td>\n",
       "      <td>-1.283310</td>\n",
       "      <td>-10.802200</td>\n",
       "      <td>0.003949</td>\n",
       "      <td>-0.070242</td>\n",
       "      <td>-918.141000</td>\n",
       "      <td>-0.442142</td>\n",
       "      <td>0.000000</td>\n",
       "      <td>0.000000</td>\n",
       "    </tr>\n",
       "    <tr>\n",
       "      <th>25%</th>\n",
       "      <td>0.000000</td>\n",
       "      <td>505.764500</td>\n",
       "      <td>862.716250</td>\n",
       "      <td>2835.860000</td>\n",
       "      <td>1454.567500</td>\n",
       "      <td>1748.530000</td>\n",
       "      <td>-0.182438</td>\n",
       "      <td>-0.001312</td>\n",
       "      <td>0.001254</td>\n",
       "      <td>1.008980</td>\n",
       "      <td>2.000000</td>\n",
       "      <td>5.000000</td>\n",
       "      <td>12.653300</td>\n",
       "      <td>-0.291891</td>\n",
       "      <td>0.255740</td>\n",
       "      <td>0.028222</td>\n",
       "      <td>0.118626</td>\n",
       "      <td>2.070980</td>\n",
       "      <td>0.000000</td>\n",
       "      <td>0.000000</td>\n",
       "    </tr>\n",
       "    <tr>\n",
       "      <th>50%</th>\n",
       "      <td>0.028723</td>\n",
       "      <td>1537.370000</td>\n",
       "      <td>2188.450000</td>\n",
       "      <td>6393.605000</td>\n",
       "      <td>2834.870000</td>\n",
       "      <td>3507.245000</td>\n",
       "      <td>-0.081081</td>\n",
       "      <td>-0.000402</td>\n",
       "      <td>0.001731</td>\n",
       "      <td>1.820080</td>\n",
       "      <td>6.000000</td>\n",
       "      <td>7.000000</td>\n",
       "      <td>17.059600</td>\n",
       "      <td>-0.073387</td>\n",
       "      <td>0.477557</td>\n",
       "      <td>0.073202</td>\n",
       "      <td>0.152430</td>\n",
       "      <td>2.946285</td>\n",
       "      <td>0.000000</td>\n",
       "      <td>0.000000</td>\n",
       "    </tr>\n",
       "    <tr>\n",
       "      <th>75%</th>\n",
       "      <td>0.100000</td>\n",
       "      <td>3509.162500</td>\n",
       "      <td>4446.470000</td>\n",
       "      <td>12181.000000</td>\n",
       "      <td>5610.445000</td>\n",
       "      <td>6279.570000</td>\n",
       "      <td>0.017653</td>\n",
       "      <td>0.000613</td>\n",
       "      <td>0.002271</td>\n",
       "      <td>2.734492</td>\n",
       "      <td>7.000000</td>\n",
       "      <td>12.000000</td>\n",
       "      <td>30.416500</td>\n",
       "      <td>0.192651</td>\n",
       "      <td>0.912613</td>\n",
       "      <td>0.127128</td>\n",
       "      <td>0.193580</td>\n",
       "      <td>4.488950</td>\n",
       "      <td>0.000000</td>\n",
       "      <td>0.000000</td>\n",
       "    </tr>\n",
       "    <tr>\n",
       "      <th>max</th>\n",
       "      <td>0.569841</td>\n",
       "      <td>14583.900000</td>\n",
       "      <td>22446.700000</td>\n",
       "      <td>25069.800000</td>\n",
       "      <td>16842.500000</td>\n",
       "      <td>27137.600000</td>\n",
       "      <td>0.261280</td>\n",
       "      <td>0.005052</td>\n",
       "      <td>0.005255</td>\n",
       "      <td>8.227270</td>\n",
       "      <td>15.000000</td>\n",
       "      <td>13.000000</td>\n",
       "      <td>211.651000</td>\n",
       "      <td>23.341500</td>\n",
       "      <td>24.067600</td>\n",
       "      <td>0.332257</td>\n",
       "      <td>20.081400</td>\n",
       "      <td>35.072800</td>\n",
       "      <td>33.000000</td>\n",
       "      <td>1.000000</td>\n",
       "    </tr>\n",
       "  </tbody>\n",
       "</table>\n",
       "</div>"
      ],
      "text/plain": [
       "       Count_Fault_Crossing     Dist_2_CDI  distance_to_Fault_Network  \\\n",
       "count         748856.000000  748856.000000              748856.000000   \n",
       "mean               0.060804    2340.536986                3375.910952   \n",
       "std                0.076219    2396.922399                3608.783990   \n",
       "min                0.000000       0.000128                   0.006518   \n",
       "25%                0.000000     505.764500                 862.716250   \n",
       "50%                0.028723    1537.370000                2188.450000   \n",
       "75%                0.100000    3509.162500                4446.470000   \n",
       "max                0.569841   14583.900000               22446.700000   \n",
       "\n",
       "       Distance_to_AuGt150  Distance_to_CuGt2000  \\\n",
       "count        748856.000000         748856.000000   \n",
       "mean           7863.664750           3970.545994   \n",
       "std            5908.366423           3309.401231   \n",
       "min             125.035000            125.560000   \n",
       "25%            2835.860000           1454.567500   \n",
       "50%            6393.605000           2834.870000   \n",
       "75%           12181.000000           5610.445000   \n",
       "max           25069.800000          16842.500000   \n",
       "\n",
       "       Distance_to_high_curvature_along_faults  GRAV_effective_density  \\\n",
       "count                            748856.000000           748856.000000   \n",
       "mean                               4926.313706               -0.076733   \n",
       "std                                4733.490670                0.137079   \n",
       "min                                   9.895720               -0.369478   \n",
       "25%                                1748.530000               -0.182438   \n",
       "50%                                3507.245000               -0.081081   \n",
       "75%                                6279.570000                0.017653   \n",
       "max                               27137.600000                0.261280   \n",
       "\n",
       "         Gravity_1VD  Gravity_Analytic_Signal           Kpct    PseudoLitho  \\\n",
       "count  748856.000000            748856.000000  748856.000000  748856.000000   \n",
       "mean       -7.211228                -7.209100       1.979132       6.536771   \n",
       "std       849.137478               849.137496       1.174467       4.130024   \n",
       "min    -99999.000000            -99999.000000      -0.299976       1.000000   \n",
       "25%        -0.001312                 0.001254       1.008980       2.000000   \n",
       "50%        -0.000402                 0.001731       1.820080       6.000000   \n",
       "75%         0.000613                 0.002271       2.734492       7.000000   \n",
       "max         0.005052                 0.005255       8.227270      15.000000   \n",
       "\n",
       "            RockCode          Thppm        TMI_1VD  TMI_Analytic_Signal  \\\n",
       "count  748856.000000  748856.000000  748856.000000        748856.000000   \n",
       "mean        7.915371      26.752967       0.005754             0.780903   \n",
       "std         3.390040      23.482837       0.894300             1.022955   \n",
       "min         1.000000      -1.283310     -10.802200             0.003949   \n",
       "25%         5.000000      12.653300      -0.291891             0.255740   \n",
       "50%         7.000000      17.059600      -0.073387             0.477557   \n",
       "75%        12.000000      30.416500       0.192651             0.912613   \n",
       "max        13.000000     211.651000      23.341500            24.067600   \n",
       "\n",
       "       TMI_effective_susc       U_div_Th           Uppm        Outcome  \\\n",
       "count       748856.000000  748856.000000  748856.000000  748856.000000   \n",
       "mean             0.075429       0.165614       3.638915       0.055907   \n",
       "std              0.058222       1.501321       2.358552       1.123281   \n",
       "min             -0.070242    -918.141000      -0.442142       0.000000   \n",
       "25%              0.028222       0.118626       2.070980       0.000000   \n",
       "50%              0.073202       0.152430       2.946285       0.000000   \n",
       "75%              0.127128       0.193580       4.488950       0.000000   \n",
       "max              0.332257      20.081400      35.072800      33.000000   \n",
       "\n",
       "               Class  \n",
       "count  748856.000000  \n",
       "mean        0.003272  \n",
       "std         0.057105  \n",
       "min         0.000000  \n",
       "25%         0.000000  \n",
       "50%         0.000000  \n",
       "75%         0.000000  \n",
       "max         1.000000  "
      ]
     },
     "execution_count": 9,
     "metadata": {},
     "output_type": "execute_result"
    }
   ],
   "source": [
    "dataset_training.describe()"
   ]
  },
  {
   "cell_type": "markdown",
   "metadata": {},
   "source": [
    "The dataset is diveded in features (X) and labels (y). y correspond to the presence/absence of the mineralization."
   ]
  },
  {
   "cell_type": "code",
   "execution_count": 10,
   "metadata": {
    "collapsed": true
   },
   "outputs": [],
   "source": [
    "#  drop the labels as well 'Distance_to_AuGt150','Distance_to_CuGt2000' as higly correlated with the training sites.\n",
    "X = dataset_training.drop(['Outcome','Class', 'Distance_to_AuGt150','Distance_to_CuGt2000'],axis=1).values\n",
    "y = dataset_training['Class'].values"
   ]
  },
  {
   "cell_type": "markdown",
   "metadata": {},
   "source": [
    "The labels are highly unbalanced, i.e. there are much more non-mineralized then mineralized class. See figure below."
   ]
  },
  {
   "cell_type": "code",
   "execution_count": 11,
   "metadata": {
    "collapsed": false,
    "scrolled": false
   },
   "outputs": [
    {
     "data": {
      "text/plain": [
       "<matplotlib.text.Text at 0xa38c0f0>"
      ]
     },
     "execution_count": 11,
     "metadata": {},
     "output_type": "execute_result"
    },
    {
     "data": {
      "image/png": "[encoded data removed]",
      "text/plain": [
       "<matplotlib.figure.Figure at 0xa2c2c18>"
      ]
     },
     "metadata": {},
     "output_type": "display_data"
    }
   ],
   "source": [
    "import seaborn as sns\n",
    "sns.set(style=\"whitegrid\")\n",
    "ax = sns.countplot(x='Class',data=dataset_training, palette=\"Set3\")\n",
    "ax.set_title('Class distribution', fontsize=15)"
   ]
  },
  {
   "cell_type": "markdown",
   "metadata": {},
   "source": [
    "### Classification\n",
    "Here we use Random Forest for the classification. The unbalance is taken account into the algorithm directely by give a `sample_weight` parameter. For this work we use 1000 trees in the forest. \n",
    "\n",
    "The dataset has been divided in 0.33/0.66 test/training size and a cross validation with 5 folds has been run.\n",
    "\n",
    "The result metrics are displayed for each fold as well as a receiver operator characteristic (ROC) plot which illustrates the performance of a binary classifier system. It is created by plotting the fraction of true positives out of the positives (TPR = true positive rate) vs. the fraction of false positives out of the negatives (FPR = false positive rate)."
   ]
  },
  {
   "cell_type": "code",
   "execution_count": 12,
   "metadata": {
    "collapsed": false
   },
   "outputs": [
    {
     "name": "stdout",
     "output_type": "stream",
     "text": [
      "==============================\n",
      "******** Result fold 1 *********\n",
      "TP:0\n",
      "FP:0\n",
      "Accuracy: 99.6864%\n",
      "Precision: 0.0000%\n",
      "Recall: 0.0000%"
     ]
    },
    {
     "name": "stderr",
     "output_type": "stream",
     "text": [
      "C:\\Users\\dominiquef.MIRAGEOSCIENCE\\AppData\\Local\\Continuum\\Anaconda\\lib\\site-packages\\sklearn\\metrics\\classification.py:1113: UndefinedMetricWarning: Precision is ill-defined and being set to 0.0 due to no predicted samples.\n",
      "  'precision', 'predicted', average, warn_for)\n",
      "C:\\Users\\dominiquef.MIRAGEOSCIENCE\\AppData\\Local\\Continuum\\Anaconda\\lib\\site-packages\\sklearn\\metrics\\classification.py:1113: UndefinedMetricWarning: F-score is ill-defined and being set to 0.0 due to no predicted samples.\n",
      "  'precision', 'predicted', average, warn_for)\n"
     ]
    },
    {
     "name": "stdout",
     "output_type": "stream",
     "text": [
      "\n",
      "F1-score: 0.0000%\n",
      "\n",
      "******** Confusion matrix fold 1 *********\n",
      "Predicted      0    All\n",
      "True                   \n",
      "0          49270  49270\n",
      "1            155    155\n",
      "All        49425  49425\n",
      "==============================\n",
      "******** Result fold 2 *********\n",
      "TP:0\n",
      "FP:0\n",
      "Accuracy: 99.6864%\n",
      "Precision: 0.0000%\n",
      "Recall: 0.0000%\n",
      "F1-score: 0.0000%\n",
      "\n",
      "******** Confusion matrix fold 2 *********\n",
      "Predicted      0    All\n",
      "True                   \n",
      "0          49270  49270\n",
      "1            155    155\n",
      "All        49425  49425\n",
      "==============================\n",
      "******** Result fold 3 *********\n",
      "TP:0\n",
      "FP:0\n",
      "Accuracy: 99.6864%\n",
      "Precision: 0.0000%\n",
      "Recall: 0.0000%\n",
      "F1-score: 0.0000%\n",
      "\n",
      "******** Confusion matrix fold 3 *********\n",
      "Predicted      0    All\n",
      "True                   \n",
      "0          49270  49270\n",
      "1            155    155\n",
      "All        49425  49425\n",
      "==============================\n",
      "******** Result fold 4 *********\n",
      "TP:0\n",
      "FP:0\n",
      "Accuracy: 99.6864%\n",
      "Precision: 0.0000%\n",
      "Recall: 0.0000%\n",
      "F1-score: 0.0000%\n",
      "\n",
      "******** Confusion matrix fold 4 *********\n",
      "Predicted      0    All\n",
      "True                   \n",
      "0          49270  49270\n",
      "1            155    155\n",
      "All        49425  49425\n",
      "==============================\n",
      "******** Result fold 5 *********\n",
      "TP:0\n",
      "FP:0\n",
      "Accuracy: 99.6864%\n",
      "Precision: 0.0000%\n",
      "Recall: 0.0000%\n",
      "F1-score: 0.0000%\n",
      "\n",
      "******** Confusion matrix fold 5 *********\n",
      "Predicted      0    All\n",
      "True                   \n",
      "0          49270  49270\n",
      "1            155    155\n",
      "All        49425  49425\n"
     ]
    },
    {
     "data": {
      "image/png": "[encoded data removed]",
      "text/plain": [
       "<matplotlib.figure.Figure at 0x12661780>"
      ]
     },
     "metadata": {},
     "output_type": "display_data"
    },
    {
     "name": "stdout",
     "output_type": "stream",
     "text": [
      "Total running time of the script 161.23 seconds\n"
     ]
    }
   ],
   "source": [
    "start = time()\n",
    "# Where did you pickled the dataset?\n",
    "# dataset_training = pd.read_pickle(work_dir + '/Dataset_all_training.pkl')\n",
    "dataset_training = dataset_training.sample(frac=0.2, replace=True)\n",
    "\n",
    "# Changed 'class' to 'Class' from cell 10?\n",
    "X = dataset_training.drop(['Outcome','Class'],axis=1).values\n",
    "y = dataset_training['Class'].values\n",
    "\n",
    "target_names = ['non-mineralized','mineralized']\n",
    "\n",
    "from itertools import cycle\n",
    "from sklearn.model_selection import StratifiedKFold, StratifiedShuffleSplit\n",
    "from sklearn import ensemble\n",
    "from sklearn import metrics\n",
    "from scipy import interp\n",
    "# Run classifier with stratified cross-validation on five folds and plot ROC curves\n",
    "cv = StratifiedShuffleSplit(n_splits=5,test_size=0.33)\n",
    "\n",
    "clf = ensemble.RandomForestClassifier(n_estimators=1000, random_state=123)\n",
    "\n",
    "mean_tpr = 0.0\n",
    "mean_fpr = np.linspace(0, 1, 100)\n",
    "\n",
    "colors = cycle(['cyan', 'indigo', 'seagreen', 'yellow', 'blue', 'darkorange'])\n",
    "lw = 2\n",
    "\n",
    "from collections import Counter\n",
    "\n",
    "prediciton = []\n",
    "i = 0\n",
    "for (train, test), color in zip(cv.split(X, y), colors):\n",
    "    cnt = Counter(y[train])\n",
    "    w0 = cnt[1]/len(y[train]) # weight associated to 0's\n",
    "    w1 = cnt[0]/len(y[train]) # weight associated to 1's\n",
    "    clf.fit(X[train], y[train], sample_weight=np.array([w0 if r==0 else w1 for r in y[train]]))\n",
    "    probas_ = clf.predict_proba(X[test])\n",
    "    preds_ = clf.predict(X[test])\n",
    "    # Compute ROC curve and area the curve\n",
    "    fpr, tpr, thresholds = metrics.roc_curve(y[test], probas_[:, 1])\n",
    "    mean_tpr += interp(mean_fpr, fpr, tpr)\n",
    "    mean_tpr[0] = 0.0\n",
    "    roc_auc = metrics.auc(fpr, tpr)\n",
    "    ACC = metrics.accuracy_score(y[test],preds_)\n",
    "    precision, recall, thresholds = metrics.precision_recall_curve(y[test], probas_[:, 1])\n",
    "    cm = metrics.confusion_matrix(y[test],preds_)\n",
    "    # Display results\n",
    "    print('='*30)\n",
    "    print('******** Result fold {} *********'.format(i+1))\n",
    "    print(\"TP:{}\".format(cm[1,1], cm[1,1]/(cm.sum()+0.0)))\n",
    "    print(\"FP:{}\".format(cm[0,1], cm[0,1]/(cm.sum()+0.0)))\n",
    "    print('Accuracy: {:.4%}'.format(ACC))\n",
    "    print('Precision: {:.4%}'.format(metrics.precision_score(y[test], clf.predict(X[test]))))\n",
    "    print('Recall: {:.4%}'.format(metrics.recall_score(y[test], clf.predict(X[test]))))\n",
    "    print('F1-score: {:.4%}'.format(metrics.f1_score(y[test], clf.predict(X[test]))))\n",
    "    print('\\n******** Confusion matrix fold {} *********'.format(i+1))\n",
    "    print(pd.crosstab(y[test], preds_, rownames=['True'], colnames=['Predicted'], margins=True))\n",
    "    plt.plot(fpr, tpr, lw=lw, color=color,\n",
    "             label='ROC fold %d (area = %0.2f)' % (i, roc_auc))\n",
    "\n",
    "    i += 1\n",
    "plt.plot([0, 1], [0, 1], linestyle='--', lw=lw, color='k',\n",
    "         label='Luck')\n",
    "\n",
    "mean_tpr /= cv.get_n_splits(X, y)\n",
    "mean_tpr[-1] = 1.0\n",
    "mean_auc = metrics.auc(mean_fpr, mean_tpr)\n",
    "plt.plot(mean_fpr, mean_tpr, color='g', linestyle='--',\n",
    "         label='Mean ROC (area = %0.2f)' % mean_auc, lw=lw)\n",
    "\n",
    "plt.xlim([-0.05, 1.05])\n",
    "plt.ylim([-0.05, 1.05])\n",
    "plt.xlabel('False Positive Rate')\n",
    "plt.ylabel('True Positive Rate')\n",
    "plt.title('Receiver operating characteristic')\n",
    "plt.legend(loc=\"lower right\")\n",
    "plt.show()\n",
    "print('Total running time of the script {:.2f} seconds'.format(time() - start))"
   ]
  },
  {
   "cell_type": "code",
   "execution_count": null,
   "metadata": {
    "collapsed": true
   },
   "outputs": [],
   "source": []
  }
 ],
 "metadata": {
  "anaconda-cloud": {},
  "kernelspec": {
   "display_name": "Python [default]",
   "language": "python",
   "name": "python2"
  },
  "language_info": {
   "codemirror_mode": {
    "name": "ipython",
    "version": 2
   },
   "file_extension": ".py",
   "mimetype": "text/x-python",
   "name": "python",
   "nbconvert_exporter": "python",
   "pygments_lexer": "ipython2",
   "version": "2.7.12"
  }
 },
 "nbformat": 4,
 "nbformat_minor": 0
}
