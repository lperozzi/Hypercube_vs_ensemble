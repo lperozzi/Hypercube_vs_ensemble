{
 "cells": [
  {
   "cell_type": "code",
   "execution_count": 1,
   "metadata": {
    "collapsed": false
   },
   "outputs": [
    {
     "name": "stdout",
     "output_type": "stream",
     "text": [
      "CPython 3.5.2\n",
      "IPython 5.1.0\n",
      "\n",
      "numpy 1.11.1\n",
      "scipy 0.18.0\n",
      "pandas 0.18.1\n",
      "matplotlib 1.5.1\n",
      "seaborn 0.7.1\n",
      "sklearn 0.19.dev0\n",
      "pywt 0.4.0\n",
      "\n",
      "compiler   : GCC 4.2.1 Compatible Apple LLVM 4.2 (clang-425.0.28)\n",
      "system     : Darwin\n",
      "release    : 16.0.0\n",
      "machine    : x86_64\n",
      "processor  : i386\n",
      "CPU cores  : 4\n",
      "interpreter: 64bit\n"
     ]
    }
   ],
   "source": [
    "%matplotlib inline\n",
    "%load_ext watermark\n",
    "%watermark -v -m -p numpy,scipy,pandas,matplotlib,seaborn,sklearn,pywt "
   ]
  },
  {
   "cell_type": "code",
   "execution_count": 2,
   "metadata": {
    "collapsed": true
   },
   "outputs": [],
   "source": [
    "import pandas as pd\n",
    "import numpy as np\n",
    "import matplotlib as mpl\n",
    "import matplotlib.pyplot as plt\n",
    "import matplotlib.colors as colors\n",
    "from mpl_toolkits.axes_grid1 import make_axes_locatable\n",
    "# import seaborn as sns\n",
    "\n",
    "from pandas import set_option\n",
    "set_option(\"display.max_rows\", 20)\n",
    "pd.options.mode.chained_assignment = None"
   ]
  },
  {
   "cell_type": "code",
   "execution_count": 3,
   "metadata": {
    "collapsed": true
   },
   "outputs": [],
   "source": [
    "dataset_header = pd.read_csv('../hypercube.09.2016/hypercube data/4Lorenzo/Datamatrix_header.txt', names=['Header'])\n",
    "header = dataset_header['Header'].tolist()"
   ]
  },
  {
   "cell_type": "code",
   "execution_count": 4,
   "metadata": {
    "collapsed": false
   },
   "outputs": [
    {
     "name": "stderr",
     "output_type": "stream",
     "text": [
      "/Users/lorenzoperozzi/anaconda3/lib/python3.5/site-packages/ipykernel/__main__.py:1: ParserWarning: Falling back to the 'python' engine because the 'c' engine does not support regex separators (separators > 1 char and different from '\\s+' are interpreted as regex); you can avoid this warning by specifying engine='python'.\n",
      "  if __name__ == '__main__':\n"
     ]
    }
   ],
   "source": [
    "dataset_training = pd.read_csv('../hypercube.09.2016/hypercube data/4Lorenzo/Dataset_all_training.dat', sep=\"  \", names=header)"
   ]
  },
  {
   "cell_type": "code",
   "execution_count": 5,
   "metadata": {
    "collapsed": true
   },
   "outputs": [],
   "source": [
    "    # Change variable type\n",
    "    dataset_training['PseudoLitho'] = dataset_training['PseudoLitho'].astype('int')\n",
    "    dataset_training['RockCode'] = dataset_training['RockCode'].astype('int')\n",
    "    dataset_training['Outcome'] = dataset_training['Outcome'].astype('int')"
   ]
  },
  {
   "cell_type": "code",
   "execution_count": 6,
   "metadata": {
    "collapsed": false
   },
   "outputs": [
    {
     "data": {
      "text/html": [
       "<div>\n",
       "<table border=\"1\" class=\"dataframe\">\n",
       "  <thead>\n",
       "    <tr style=\"text-align: right;\">\n",
       "      <th></th>\n",
       "      <th>Count_Fault_Crossing</th>\n",
       "      <th>Dist_2_CDI</th>\n",
       "      <th>distance_to_Fault_Network</th>\n",
       "      <th>Distance_to_AuGt150</th>\n",
       "      <th>Distance_to_CuGt2000</th>\n",
       "      <th>Distance_to_high_curvature_along_faults</th>\n",
       "      <th>GRAV_effective_density</th>\n",
       "      <th>Gravity_1VD</th>\n",
       "      <th>Gravity_Analytic_Signal</th>\n",
       "      <th>Kpct</th>\n",
       "      <th>PseudoLitho</th>\n",
       "      <th>RockCode</th>\n",
       "      <th>Thppm</th>\n",
       "      <th>TMI_1VD</th>\n",
       "      <th>TMI_Analytic_Signal</th>\n",
       "      <th>TMI_effective_susc</th>\n",
       "      <th>U_div_Th</th>\n",
       "      <th>Uppm</th>\n",
       "      <th>Outcome</th>\n",
       "      <th>class</th>\n",
       "    </tr>\n",
       "  </thead>\n",
       "  <tbody>\n",
       "    <tr>\n",
       "      <th>0</th>\n",
       "      <td>0.167869</td>\n",
       "      <td>1951.89</td>\n",
       "      <td>334.578</td>\n",
       "      <td>19599.8</td>\n",
       "      <td>5135.24</td>\n",
       "      <td>3073.00</td>\n",
       "      <td>0.230058</td>\n",
       "      <td>0.000756</td>\n",
       "      <td>0.001131</td>\n",
       "      <td>0.517956</td>\n",
       "      <td>4</td>\n",
       "      <td>1</td>\n",
       "      <td>11.5835</td>\n",
       "      <td>-0.000482</td>\n",
       "      <td>0.102906</td>\n",
       "      <td>0.332257</td>\n",
       "      <td>0.134642</td>\n",
       "      <td>1.55958</td>\n",
       "      <td>0</td>\n",
       "      <td>0</td>\n",
       "    </tr>\n",
       "    <tr>\n",
       "      <th>1</th>\n",
       "      <td>0.159692</td>\n",
       "      <td>1951.58</td>\n",
       "      <td>279.660</td>\n",
       "      <td>19523.0</td>\n",
       "      <td>5235.09</td>\n",
       "      <td>2997.63</td>\n",
       "      <td>0.229627</td>\n",
       "      <td>0.000765</td>\n",
       "      <td>0.001162</td>\n",
       "      <td>0.523862</td>\n",
       "      <td>4</td>\n",
       "      <td>1</td>\n",
       "      <td>11.7754</td>\n",
       "      <td>0.032979</td>\n",
       "      <td>0.172299</td>\n",
       "      <td>0.332192</td>\n",
       "      <td>0.135796</td>\n",
       "      <td>1.59911</td>\n",
       "      <td>0</td>\n",
       "      <td>0</td>\n",
       "    </tr>\n",
       "    <tr>\n",
       "      <th>2</th>\n",
       "      <td>0.153920</td>\n",
       "      <td>1951.30</td>\n",
       "      <td>224.744</td>\n",
       "      <td>19446.4</td>\n",
       "      <td>5334.95</td>\n",
       "      <td>2923.75</td>\n",
       "      <td>0.228073</td>\n",
       "      <td>0.000773</td>\n",
       "      <td>0.001192</td>\n",
       "      <td>0.505136</td>\n",
       "      <td>4</td>\n",
       "      <td>1</td>\n",
       "      <td>11.6611</td>\n",
       "      <td>0.099562</td>\n",
       "      <td>0.241855</td>\n",
       "      <td>0.330549</td>\n",
       "      <td>0.137801</td>\n",
       "      <td>1.60679</td>\n",
       "      <td>0</td>\n",
       "      <td>0</td>\n",
       "    </tr>\n",
       "    <tr>\n",
       "      <th>3</th>\n",
       "      <td>0.148629</td>\n",
       "      <td>1951.05</td>\n",
       "      <td>169.826</td>\n",
       "      <td>19370.0</td>\n",
       "      <td>5434.81</td>\n",
       "      <td>2851.46</td>\n",
       "      <td>0.225421</td>\n",
       "      <td>0.000782</td>\n",
       "      <td>0.001222</td>\n",
       "      <td>0.472606</td>\n",
       "      <td>4</td>\n",
       "      <td>1</td>\n",
       "      <td>11.1736</td>\n",
       "      <td>0.188753</td>\n",
       "      <td>0.307704</td>\n",
       "      <td>0.330063</td>\n",
       "      <td>0.139802</td>\n",
       "      <td>1.56175</td>\n",
       "      <td>0</td>\n",
       "      <td>0</td>\n",
       "    </tr>\n",
       "    <tr>\n",
       "      <th>4</th>\n",
       "      <td>0.143338</td>\n",
       "      <td>1950.88</td>\n",
       "      <td>114.908</td>\n",
       "      <td>19293.8</td>\n",
       "      <td>5534.67</td>\n",
       "      <td>2780.88</td>\n",
       "      <td>0.222033</td>\n",
       "      <td>0.000790</td>\n",
       "      <td>0.001253</td>\n",
       "      <td>0.442808</td>\n",
       "      <td>4</td>\n",
       "      <td>1</td>\n",
       "      <td>10.5124</td>\n",
       "      <td>0.284289</td>\n",
       "      <td>0.365465</td>\n",
       "      <td>0.328266</td>\n",
       "      <td>0.142308</td>\n",
       "      <td>1.49541</td>\n",
       "      <td>0</td>\n",
       "      <td>0</td>\n",
       "    </tr>\n",
       "  </tbody>\n",
       "</table>\n",
       "</div>"
      ],
      "text/plain": [
       "   Count_Fault_Crossing  Dist_2_CDI  distance_to_Fault_Network  \\\n",
       "0              0.167869     1951.89                    334.578   \n",
       "1              0.159692     1951.58                    279.660   \n",
       "2              0.153920     1951.30                    224.744   \n",
       "3              0.148629     1951.05                    169.826   \n",
       "4              0.143338     1950.88                    114.908   \n",
       "\n",
       "   Distance_to_AuGt150  Distance_to_CuGt2000  \\\n",
       "0              19599.8               5135.24   \n",
       "1              19523.0               5235.09   \n",
       "2              19446.4               5334.95   \n",
       "3              19370.0               5434.81   \n",
       "4              19293.8               5534.67   \n",
       "\n",
       "   Distance_to_high_curvature_along_faults  GRAV_effective_density  \\\n",
       "0                                  3073.00                0.230058   \n",
       "1                                  2997.63                0.229627   \n",
       "2                                  2923.75                0.228073   \n",
       "3                                  2851.46                0.225421   \n",
       "4                                  2780.88                0.222033   \n",
       "\n",
       "   Gravity_1VD  Gravity_Analytic_Signal      Kpct  PseudoLitho  RockCode  \\\n",
       "0     0.000756                 0.001131  0.517956            4         1   \n",
       "1     0.000765                 0.001162  0.523862            4         1   \n",
       "2     0.000773                 0.001192  0.505136            4         1   \n",
       "3     0.000782                 0.001222  0.472606            4         1   \n",
       "4     0.000790                 0.001253  0.442808            4         1   \n",
       "\n",
       "     Thppm   TMI_1VD  TMI_Analytic_Signal  TMI_effective_susc  U_div_Th  \\\n",
       "0  11.5835 -0.000482             0.102906            0.332257  0.134642   \n",
       "1  11.7754  0.032979             0.172299            0.332192  0.135796   \n",
       "2  11.6611  0.099562             0.241855            0.330549  0.137801   \n",
       "3  11.1736  0.188753             0.307704            0.330063  0.139802   \n",
       "4  10.5124  0.284289             0.365465            0.328266  0.142308   \n",
       "\n",
       "      Uppm  Outcome  class  \n",
       "0  1.55958        0      0  \n",
       "1  1.59911        0      0  \n",
       "2  1.60679        0      0  \n",
       "3  1.56175        0      0  \n",
       "4  1.49541        0      0  "
      ]
     },
     "execution_count": 6,
     "metadata": {},
     "output_type": "execute_result"
    }
   ],
   "source": [
    "dataset_training['Outcome'].unique().sum()\n",
    "dataset_training['Class'] = dataset_training.apply(lambda row: 0 if row[\"Outcome\"] == 0 else 1, axis=1)\n",
    "dataset_training.head()"
   ]
  },
  {
   "cell_type": "code",
   "execution_count": 7,
   "metadata": {
    "collapsed": false
   },
   "outputs": [
    {
     "data": {
      "image/png": "[encoded data removed]",
      "text/plain": [
       "<matplotlib.figure.Figure at 0x159169780>"
      ]
     },
     "metadata": {},
     "output_type": "display_data"
    }
   ],
   "source": [
    "#save plot display settings to change back to when done plotting with seaborn\n",
    "inline_rc = dict(mpl.rcParams)\n",
    "\n",
    "import seaborn as sns\n",
    "sns.set()\n",
    "dataset_training['Outcome'].replace(to_replace=0, value=np.nan, inplace=True)\n",
    "sns.countplot(x=\"Outcome\", data=dataset_training)\n",
    "dataset_training['Outcome'].replace(to_replace=np.nan, value=0, inplace=True)\n",
    "\n",
    "#switch back to default matplotlib plot style\n",
    "mpl.rcParams.update(inline_rc)"
   ]
  },
  {
   "cell_type": "code",
   "execution_count": 8,
   "metadata": {
    "collapsed": false,
    "run_control": {
     "marked": true
    }
   },
   "outputs": [
    {
     "data": {
      "text/plain": [
       "Count_Fault_Crossing                        0\n",
       "Dist_2_CDI                                  0\n",
       "distance_to_Fault_Network                   0\n",
       "Distance_to_AuGt150                         0\n",
       "Distance_to_CuGt2000                        0\n",
       "Distance_to_high_curvature_along_faults     0\n",
       "GRAV_effective_density                      0\n",
       "Gravity_1VD                                54\n",
       "Gravity_Analytic_Signal                    54\n",
       "Kpct                                        0\n",
       "PseudoLitho                                 0\n",
       "RockCode                                    0\n",
       "Thppm                                       0\n",
       "TMI_1VD                                     0\n",
       "TMI_Analytic_Signal                         0\n",
       "TMI_effective_susc                          0\n",
       "U_div_Th                                    0\n",
       "Uppm                                        0\n",
       "Outcome                                     0\n",
       "class                                       0\n",
       "dtype: int64"
      ]
     },
     "execution_count": 8,
     "metadata": {},
     "output_type": "execute_result"
    }
   ],
   "source": [
    "dataset_training.replace(to_replace=-99999, value=np.nan, inplace=True)\n",
    "# dataset_training.replace(to_replace=np.nan, value=-99999, inplace=True)\n",
    "dataset_training.isnull().sum()"
   ]
  },
  {
   "cell_type": "code",
   "execution_count": 10,
   "metadata": {
    "collapsed": true
   },
   "outputs": [],
   "source": [
    "dataset_training.to_pickle('data/Dataset_all_training.pkl')"
   ]
  },
  {
   "cell_type": "code",
   "execution_count": null,
   "metadata": {
    "collapsed": true
   },
   "outputs": [],
   "source": []
  }
 ],
 "metadata": {
  "anaconda-cloud": {},
  "kernelspec": {
   "display_name": "Python [Root]",
   "language": "python",
   "name": "Python [Root]"
  },
  "language_info": {
   "codemirror_mode": {
    "name": "ipython",
    "version": 3
   },
   "file_extension": ".py",
   "mimetype": "text/x-python",
   "name": "python",
   "nbconvert_exporter": "python",
   "pygments_lexer": "ipython3",
   "version": "3.5.2"
  }
 },
 "nbformat": 4,
 "nbformat_minor": 0
}
