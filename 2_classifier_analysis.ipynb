{
 "cells": [
  {
   "cell_type": "code",
   "execution_count": 1,
   "metadata": {
    "collapsed": false
   },
   "outputs": [
    {
     "name": "stdout",
     "output_type": "stream",
     "text": [
      "CPython 3.5.2\n",
      "IPython 5.1.0\n",
      "\n",
      "numpy 1.11.1\n",
      "scipy 0.18.0\n",
      "pandas 0.18.1\n",
      "matplotlib 1.5.1\n",
      "seaborn 0.7.1\n",
      "sklearn 0.19.dev0\n",
      "pywt 0.4.0\n",
      "\n",
      "compiler   : GCC 4.2.1 Compatible Apple LLVM 4.2 (clang-425.0.28)\n",
      "system     : Darwin\n",
      "release    : 16.0.0\n",
      "machine    : x86_64\n",
      "processor  : i386\n",
      "CPU cores  : 4\n",
      "interpreter: 64bit\n"
     ]
    }
   ],
   "source": [
    "%matplotlib inline\n",
    "%load_ext watermark\n",
    "%watermark -v -m -p numpy,scipy,pandas,matplotlib,seaborn,sklearn,pywt "
   ]
  },
  {
   "cell_type": "code",
   "execution_count": 2,
   "metadata": {
    "collapsed": true
   },
   "outputs": [],
   "source": [
    "import pandas as pd\n",
    "import numpy as np\n",
    "import matplotlib as mpl\n",
    "import matplotlib.pyplot as plt\n",
    "import matplotlib.colors as colors\n",
    "from mpl_toolkits.axes_grid1 import make_axes_locatable\n",
    "from collections import Counter\n",
    "#save plot display settings to change back to when done plotting with seaborn\n",
    "inline_rc = dict(mpl.rcParams)\n",
    "\n",
    "from pandas import set_option\n",
    "set_option(\"display.max_rows\", 20)\n",
    "pd.options.mode.chained_assignment = None"
   ]
  },
  {
   "cell_type": "code",
   "execution_count": 3,
   "metadata": {
    "collapsed": false
   },
   "outputs": [
    {
     "data": {
      "text/html": [
       "<div>\n",
       "<table border=\"1\" class=\"dataframe\">\n",
       "  <thead>\n",
       "    <tr style=\"text-align: right;\">\n",
       "      <th></th>\n",
       "      <th>Count_Fault_Crossing</th>\n",
       "      <th>Dist_2_CDI</th>\n",
       "      <th>distance_to_Fault_Network</th>\n",
       "      <th>Distance_to_AuGt150</th>\n",
       "      <th>Distance_to_CuGt2000</th>\n",
       "      <th>Distance_to_high_curvature_along_faults</th>\n",
       "      <th>GRAV_effective_density</th>\n",
       "      <th>Gravity_1VD</th>\n",
       "      <th>Gravity_Analytic_Signal</th>\n",
       "      <th>Kpct</th>\n",
       "      <th>PseudoLitho</th>\n",
       "      <th>RockCode</th>\n",
       "      <th>Thppm</th>\n",
       "      <th>TMI_1VD</th>\n",
       "      <th>TMI_Analytic_Signal</th>\n",
       "      <th>TMI_effective_susc</th>\n",
       "      <th>U_div_Th</th>\n",
       "      <th>Uppm</th>\n",
       "      <th>Outcome</th>\n",
       "      <th>class</th>\n",
       "    </tr>\n",
       "  </thead>\n",
       "  <tbody>\n",
       "    <tr>\n",
       "      <th>count</th>\n",
       "      <td>748856.000000</td>\n",
       "      <td>748856.000000</td>\n",
       "      <td>748856.000000</td>\n",
       "      <td>748856.000000</td>\n",
       "      <td>748856.000000</td>\n",
       "      <td>748856.000000</td>\n",
       "      <td>748856.000000</td>\n",
       "      <td>748856.000000</td>\n",
       "      <td>748856.000000</td>\n",
       "      <td>748856.000000</td>\n",
       "      <td>748856.000000</td>\n",
       "      <td>748856.000000</td>\n",
       "      <td>748856.000000</td>\n",
       "      <td>748856.000000</td>\n",
       "      <td>748856.000000</td>\n",
       "      <td>748856.000000</td>\n",
       "      <td>748856.000000</td>\n",
       "      <td>748856.000000</td>\n",
       "      <td>748856.000000</td>\n",
       "      <td>748856.000000</td>\n",
       "    </tr>\n",
       "    <tr>\n",
       "      <th>mean</th>\n",
       "      <td>0.060804</td>\n",
       "      <td>2340.536986</td>\n",
       "      <td>3375.910952</td>\n",
       "      <td>7863.664750</td>\n",
       "      <td>3970.545994</td>\n",
       "      <td>4926.313706</td>\n",
       "      <td>-0.076733</td>\n",
       "      <td>-7.211228</td>\n",
       "      <td>-7.209100</td>\n",
       "      <td>1.979132</td>\n",
       "      <td>6.536771</td>\n",
       "      <td>7.915371</td>\n",
       "      <td>26.752967</td>\n",
       "      <td>0.005754</td>\n",
       "      <td>0.780903</td>\n",
       "      <td>0.075429</td>\n",
       "      <td>0.165614</td>\n",
       "      <td>3.638915</td>\n",
       "      <td>0.055907</td>\n",
       "      <td>0.003272</td>\n",
       "    </tr>\n",
       "    <tr>\n",
       "      <th>std</th>\n",
       "      <td>0.076219</td>\n",
       "      <td>2396.922399</td>\n",
       "      <td>3608.783990</td>\n",
       "      <td>5908.366423</td>\n",
       "      <td>3309.401231</td>\n",
       "      <td>4733.490670</td>\n",
       "      <td>0.137079</td>\n",
       "      <td>849.137478</td>\n",
       "      <td>849.137496</td>\n",
       "      <td>1.174467</td>\n",
       "      <td>4.130024</td>\n",
       "      <td>3.390040</td>\n",
       "      <td>23.482837</td>\n",
       "      <td>0.894300</td>\n",
       "      <td>1.022955</td>\n",
       "      <td>0.058222</td>\n",
       "      <td>1.501321</td>\n",
       "      <td>2.358552</td>\n",
       "      <td>1.123281</td>\n",
       "      <td>0.057105</td>\n",
       "    </tr>\n",
       "    <tr>\n",
       "      <th>min</th>\n",
       "      <td>0.000000</td>\n",
       "      <td>0.000128</td>\n",
       "      <td>0.006518</td>\n",
       "      <td>125.035000</td>\n",
       "      <td>125.560000</td>\n",
       "      <td>9.895720</td>\n",
       "      <td>-0.369478</td>\n",
       "      <td>-99999.000000</td>\n",
       "      <td>-99999.000000</td>\n",
       "      <td>-0.299976</td>\n",
       "      <td>1.000000</td>\n",
       "      <td>1.000000</td>\n",
       "      <td>-1.283310</td>\n",
       "      <td>-10.802200</td>\n",
       "      <td>0.003949</td>\n",
       "      <td>-0.070242</td>\n",
       "      <td>-918.141000</td>\n",
       "      <td>-0.442142</td>\n",
       "      <td>0.000000</td>\n",
       "      <td>0.000000</td>\n",
       "    </tr>\n",
       "    <tr>\n",
       "      <th>25%</th>\n",
       "      <td>0.000000</td>\n",
       "      <td>505.764500</td>\n",
       "      <td>862.716250</td>\n",
       "      <td>2835.860000</td>\n",
       "      <td>1454.567500</td>\n",
       "      <td>1748.530000</td>\n",
       "      <td>-0.182438</td>\n",
       "      <td>-0.001312</td>\n",
       "      <td>0.001254</td>\n",
       "      <td>1.008980</td>\n",
       "      <td>2.000000</td>\n",
       "      <td>5.000000</td>\n",
       "      <td>12.653300</td>\n",
       "      <td>-0.291891</td>\n",
       "      <td>0.255740</td>\n",
       "      <td>0.028222</td>\n",
       "      <td>0.118626</td>\n",
       "      <td>2.070980</td>\n",
       "      <td>0.000000</td>\n",
       "      <td>0.000000</td>\n",
       "    </tr>\n",
       "    <tr>\n",
       "      <th>50%</th>\n",
       "      <td>0.028723</td>\n",
       "      <td>1537.370000</td>\n",
       "      <td>2188.450000</td>\n",
       "      <td>6393.605000</td>\n",
       "      <td>2834.870000</td>\n",
       "      <td>3507.245000</td>\n",
       "      <td>-0.081081</td>\n",
       "      <td>-0.000402</td>\n",
       "      <td>0.001731</td>\n",
       "      <td>1.820080</td>\n",
       "      <td>6.000000</td>\n",
       "      <td>7.000000</td>\n",
       "      <td>17.059600</td>\n",
       "      <td>-0.073387</td>\n",
       "      <td>0.477557</td>\n",
       "      <td>0.073202</td>\n",
       "      <td>0.152430</td>\n",
       "      <td>2.946285</td>\n",
       "      <td>0.000000</td>\n",
       "      <td>0.000000</td>\n",
       "    </tr>\n",
       "    <tr>\n",
       "      <th>75%</th>\n",
       "      <td>0.100000</td>\n",
       "      <td>3509.162500</td>\n",
       "      <td>4446.470000</td>\n",
       "      <td>12181.000000</td>\n",
       "      <td>5610.445000</td>\n",
       "      <td>6279.570000</td>\n",
       "      <td>0.017653</td>\n",
       "      <td>0.000613</td>\n",
       "      <td>0.002271</td>\n",
       "      <td>2.734492</td>\n",
       "      <td>7.000000</td>\n",
       "      <td>12.000000</td>\n",
       "      <td>30.416500</td>\n",
       "      <td>0.192651</td>\n",
       "      <td>0.912613</td>\n",
       "      <td>0.127128</td>\n",
       "      <td>0.193580</td>\n",
       "      <td>4.488950</td>\n",
       "      <td>0.000000</td>\n",
       "      <td>0.000000</td>\n",
       "    </tr>\n",
       "    <tr>\n",
       "      <th>max</th>\n",
       "      <td>0.569841</td>\n",
       "      <td>14583.900000</td>\n",
       "      <td>22446.700000</td>\n",
       "      <td>25069.800000</td>\n",
       "      <td>16842.500000</td>\n",
       "      <td>27137.600000</td>\n",
       "      <td>0.261280</td>\n",
       "      <td>0.005052</td>\n",
       "      <td>0.005255</td>\n",
       "      <td>8.227270</td>\n",
       "      <td>15.000000</td>\n",
       "      <td>13.000000</td>\n",
       "      <td>211.651000</td>\n",
       "      <td>23.341500</td>\n",
       "      <td>24.067600</td>\n",
       "      <td>0.332257</td>\n",
       "      <td>20.081400</td>\n",
       "      <td>35.072800</td>\n",
       "      <td>33.000000</td>\n",
       "      <td>1.000000</td>\n",
       "    </tr>\n",
       "  </tbody>\n",
       "</table>\n",
       "</div>"
      ],
      "text/plain": [
       "       Count_Fault_Crossing     Dist_2_CDI  distance_to_Fault_Network  \\\n",
       "count         748856.000000  748856.000000              748856.000000   \n",
       "mean               0.060804    2340.536986                3375.910952   \n",
       "std                0.076219    2396.922399                3608.783990   \n",
       "min                0.000000       0.000128                   0.006518   \n",
       "25%                0.000000     505.764500                 862.716250   \n",
       "50%                0.028723    1537.370000                2188.450000   \n",
       "75%                0.100000    3509.162500                4446.470000   \n",
       "max                0.569841   14583.900000               22446.700000   \n",
       "\n",
       "       Distance_to_AuGt150  Distance_to_CuGt2000  \\\n",
       "count        748856.000000         748856.000000   \n",
       "mean           7863.664750           3970.545994   \n",
       "std            5908.366423           3309.401231   \n",
       "min             125.035000            125.560000   \n",
       "25%            2835.860000           1454.567500   \n",
       "50%            6393.605000           2834.870000   \n",
       "75%           12181.000000           5610.445000   \n",
       "max           25069.800000          16842.500000   \n",
       "\n",
       "       Distance_to_high_curvature_along_faults  GRAV_effective_density  \\\n",
       "count                            748856.000000           748856.000000   \n",
       "mean                               4926.313706               -0.076733   \n",
       "std                                4733.490670                0.137079   \n",
       "min                                   9.895720               -0.369478   \n",
       "25%                                1748.530000               -0.182438   \n",
       "50%                                3507.245000               -0.081081   \n",
       "75%                                6279.570000                0.017653   \n",
       "max                               27137.600000                0.261280   \n",
       "\n",
       "         Gravity_1VD  Gravity_Analytic_Signal           Kpct    PseudoLitho  \\\n",
       "count  748856.000000            748856.000000  748856.000000  748856.000000   \n",
       "mean       -7.211228                -7.209100       1.979132       6.536771   \n",
       "std       849.137478               849.137496       1.174467       4.130024   \n",
       "min    -99999.000000            -99999.000000      -0.299976       1.000000   \n",
       "25%        -0.001312                 0.001254       1.008980       2.000000   \n",
       "50%        -0.000402                 0.001731       1.820080       6.000000   \n",
       "75%         0.000613                 0.002271       2.734492       7.000000   \n",
       "max         0.005052                 0.005255       8.227270      15.000000   \n",
       "\n",
       "            RockCode          Thppm        TMI_1VD  TMI_Analytic_Signal  \\\n",
       "count  748856.000000  748856.000000  748856.000000        748856.000000   \n",
       "mean        7.915371      26.752967       0.005754             0.780903   \n",
       "std         3.390040      23.482837       0.894300             1.022955   \n",
       "min         1.000000      -1.283310     -10.802200             0.003949   \n",
       "25%         5.000000      12.653300      -0.291891             0.255740   \n",
       "50%         7.000000      17.059600      -0.073387             0.477557   \n",
       "75%        12.000000      30.416500       0.192651             0.912613   \n",
       "max        13.000000     211.651000      23.341500            24.067600   \n",
       "\n",
       "       TMI_effective_susc       U_div_Th           Uppm        Outcome  \\\n",
       "count       748856.000000  748856.000000  748856.000000  748856.000000   \n",
       "mean             0.075429       0.165614       3.638915       0.055907   \n",
       "std              0.058222       1.501321       2.358552       1.123281   \n",
       "min             -0.070242    -918.141000      -0.442142       0.000000   \n",
       "25%              0.028222       0.118626       2.070980       0.000000   \n",
       "50%              0.073202       0.152430       2.946285       0.000000   \n",
       "75%              0.127128       0.193580       4.488950       0.000000   \n",
       "max              0.332257      20.081400      35.072800      33.000000   \n",
       "\n",
       "               class  \n",
       "count  748856.000000  \n",
       "mean        0.003272  \n",
       "std         0.057105  \n",
       "min         0.000000  \n",
       "25%         0.000000  \n",
       "50%         0.000000  \n",
       "75%         0.000000  \n",
       "max         1.000000  "
      ]
     },
     "execution_count": 3,
     "metadata": {},
     "output_type": "execute_result"
    }
   ],
   "source": [
    "dataset_training = pd.read_pickle('data/Dataset_all_training.pkl')\n",
    "# dataset_training.replace(to_replace=-99999, value=np.nan, inplace=True)\n",
    "\n",
    "dataset_training.describe()"
   ]
  },
  {
   "cell_type": "code",
   "execution_count": 30,
   "metadata": {
    "collapsed": true
   },
   "outputs": [],
   "source": [
    "# x = dataset_training.drop(['Outcome','class'], axis=1).values\n",
    "x = dataset_training.drop(['Outcome','class','Distance_to_AuGt150','Distance_to_CuGt2000'], axis=1).values\n",
    "y = dataset_training[['Outcome','class']].values\n",
    "y1 = y[:,1]"
   ]
  },
  {
   "cell_type": "code",
   "execution_count": 31,
   "metadata": {
    "collapsed": false
   },
   "outputs": [
    {
     "name": "stdout",
     "output_type": "stream",
     "text": [
      "(494244, 16)\n",
      "(494244,)\n",
      "(254612, 16)\n",
      "(254612,)\n",
      "dict_values([253775, 837])\n",
      "dict_values([492631, 1613])\n"
     ]
    }
   ],
   "source": [
    "from sklearn.model_selection import train_test_split\n",
    "\n",
    "X_train, X_test, y_train, y_test = train_test_split(\n",
    "        x, y1, train_size=0.66, random_state=1)\n",
    "\n",
    "print(X_train.shape)\n",
    "print(y_train.shape)\n",
    "print(X_test.shape)\n",
    "print(y_test.shape)\n",
    "print(Counter(y_test).values())\n",
    "print(Counter(y_train).values())"
   ]
  },
  {
   "cell_type": "code",
   "execution_count": 6,
   "metadata": {
    "collapsed": false
   },
   "outputs": [],
   "source": [
    "min_labels = list(np.unique(y_test))\n",
    "mineralization_labels = ['{:.0f}'.format(x) for x in min_labels]\n"
   ]
  },
  {
   "cell_type": "code",
   "execution_count": 7,
   "metadata": {
    "collapsed": false,
    "run_control": {
     "marked": true
    }
   },
   "outputs": [
    {
     "data": {
      "text/plain": [
       "<matplotlib.axes._subplots.AxesSubplot at 0x1151e5710>"
      ]
     },
     "execution_count": 7,
     "metadata": {},
     "output_type": "execute_result"
    },
    {
     "data": {
      "image/png": "[encoded data removed]",
      "text/plain": [
       "<matplotlib.figure.Figure at 0x104780048>"
      ]
     },
     "metadata": {},
     "output_type": "display_data"
    }
   ],
   "source": [
    "import seaborn as sns\n",
    "sns.set()\n",
    "sns.countplot(y_train)"
   ]
  },
  {
   "cell_type": "code",
   "execution_count": 32,
   "metadata": {
    "collapsed": true
   },
   "outputs": [],
   "source": [
    "# from http://stackoverflow.com/a/23479973\n",
    "\n",
    "def balanced_subsample(x,y,subsample_size=1.0):\n",
    "\n",
    "    class_xs = []\n",
    "    min_elems = None\n",
    "\n",
    "    for yi in np.unique(y):\n",
    "        elems = x[(y == yi)]\n",
    "        class_xs.append((yi, elems))\n",
    "        if min_elems == None or elems.shape[0] < min_elems:\n",
    "            min_elems = elems.shape[0]\n",
    "\n",
    "    use_elems = min_elems\n",
    "    if subsample_size < 1:\n",
    "        use_elems = int(min_elems*subsample_size)\n",
    "\n",
    "    xs = []\n",
    "    ys = []\n",
    "\n",
    "    for ci,this_xs in class_xs:\n",
    "        if len(this_xs) > use_elems:\n",
    "            np.random.shuffle(this_xs)\n",
    "\n",
    "        x_ = this_xs[:use_elems]\n",
    "        y_ = np.empty(use_elems)\n",
    "        y_.fill(ci)\n",
    "\n",
    "        xs.append(x_)\n",
    "        ys.append(y_)\n",
    "\n",
    "    xs = np.concatenate(xs)\n",
    "    ys = np.concatenate(ys)\n",
    "\n",
    "    return xs,ys"
   ]
  },
  {
   "cell_type": "code",
   "execution_count": 33,
   "metadata": {
    "collapsed": false
   },
   "outputs": [
    {
     "name": "stdout",
     "output_type": "stream",
     "text": [
      "(3226, 16)\n",
      "(3226,)\n"
     ]
    },
    {
     "data": {
      "text/plain": [
       "<matplotlib.axes._subplots.AxesSubplot at 0x119916080>"
      ]
     },
     "execution_count": 33,
     "metadata": {},
     "output_type": "execute_result"
    },
    {
     "data": {
      "image/png": "[encoded data removed]",
      "text/plain": [
       "<matplotlib.figure.Figure at 0x11993b048>"
      ]
     },
     "metadata": {},
     "output_type": "display_data"
    }
   ],
   "source": [
    "Xs_train,ys_train = balanced_subsample(X_train,y_train,subsample_size=1.0)\n",
    "\n",
    "print(Xs_train.shape)\n",
    "print(ys_train.shape)\n",
    "sns.countplot(ys_train)"
   ]
  },
  {
   "cell_type": "code",
   "execution_count": 10,
   "metadata": {
    "collapsed": true
   },
   "outputs": [],
   "source": [
    "from sklearn import ensemble\n",
    "from sklearn import metrics\n",
    "from sklearn.metrics import confusion_matrix\n",
    "from sklearn.metrics import classification_report\n",
    "from classification_utilities import display_cm"
   ]
  },
  {
   "cell_type": "code",
   "execution_count": 28,
   "metadata": {
    "collapsed": true
   },
   "outputs": [],
   "source": [
    "# classifiers = [\n",
    "#     ensemble.RandomForestClassifier(n_estimators=100),\n",
    "#     ensemble.GradientBoostingClassifier(n_estimators=100, max_depth=30),\n",
    "#     ensemble.AdaBoostClassifier()]\n",
    "classifiers = [\n",
    "    ensemble.RandomForestClassifier(n_estimators=100)]\n",
    "classifiers = [\n",
    "    ensemble.RandomForestClassifier(n_estimators=100)]"
   ]
  },
  {
   "cell_type": "code",
   "execution_count": 29,
   "metadata": {
    "collapsed": false
   },
   "outputs": [
    {
     "name": "stdout",
     "output_type": "stream",
     "text": [
      "==============================\n",
      "RandomForestClassifier\n",
      "****Results****\n",
      "\n",
      "Accuracy: 96.5689%\n",
      "Precision: 8.7261%\n",
      "Recall: 99.7611%\n",
      "F1 score: 16.0484%\n",
      "\n",
      "Classification report:\n",
      "\n",
      "             precision    recall  f1-score   support\n",
      "\n",
      "        0.0       1.00      0.97      0.98    253775\n",
      "        1.0       0.09      1.00      0.16       837\n",
      "\n",
      "avg / total       1.00      0.97      0.98    254612\n",
      "\n",
      "==============================\n"
     ]
    },
    {
     "data": {
      "image/png": "[encoded data removed]",
      "text/plain": [
       "<matplotlib.figure.Figure at 0x119c1de80>"
      ]
     },
     "metadata": {},
     "output_type": "display_data"
    },
    {
     "data": {
      "image/png": "[encoded data removed]",
      "text/plain": [
       "<matplotlib.figure.Figure at 0x119ca7160>"
      ]
     },
     "metadata": {},
     "output_type": "display_data"
    }
   ],
   "source": [
    "sns.reset_orig()\n",
    "# Logging for Visual Comparison\n",
    "log_cols=[\"Classifier\", \"Accuracy\", \"Precision\", \"Recall\", \"F1-score\"]\n",
    "log = pd.DataFrame(columns=log_cols)\n",
    "\n",
    "for clf in classifiers:\n",
    "    clf.fit(X_train, y_train)\n",
    "    name = clf.__class__.__name__\n",
    "    importances = clf.feature_importances_\n",
    "#     std = np.std([tree.feature_importances_ for tree in clf.estimators_],axis=0)\n",
    "    indices = np.argsort(importances)[::-1]\n",
    "    print(\"=\"*30)\n",
    "    print(name)\n",
    "    \n",
    "    print('****Results****\\n')\n",
    "    test_predictions = clf.predict(X_test)\n",
    "    \n",
    "    accuracy = metrics.accuracy_score(y_test, test_predictions)\n",
    "    print(\"Accuracy: {:.4%}\".format(accuracy))\n",
    "   \n",
    "\n",
    "    precision = metrics.precision_score(y_test, test_predictions)\n",
    "    print(\"Precision: {:.4%}\".format(precision))\n",
    "    \n",
    "    recall = metrics.recall_score(y_test, test_predictions)\n",
    "    print(\"Recall: {:.4%}\".format(recall))\n",
    "    \n",
    "    f1 = metrics.f1_score(y_test, test_predictions)\n",
    "    print(\"F1 score: {:.4%}\\n\".format(f1))\n",
    "    \n",
    "    print('Classification report:\\n')\n",
    "    print(classification_report(y_test, test_predictions))\n",
    "    \n",
    "    confmat = confusion_matrix(y_true=y_test, y_pred=test_predictions)\n",
    "    \n",
    "    fig, ax = plt.subplots(figsize=(5, 5))\n",
    "    fpr, tpr, thresholds = metrics.roc_curve(y_test, test_predictions,pos_label=1)\n",
    "    \n",
    "#     mean_tpr += interp(mean_fpr, fpr, tpr)\n",
    "#     mean_tpr[0] = 0.0\n",
    "    roc_auc = metrics.auc(fpr, tpr)\n",
    "    plt.plot(fpr,\n",
    "             tpr,\n",
    "             lw=1,\n",
    "             label='ROC fold (area = %0.2f)'\n",
    "                   % (roc_auc))\n",
    "    \n",
    "    plt.plot([0, 1],\n",
    "             [0, 1],\n",
    "             linestyle='--',\n",
    "             color=(0.6, 0.6, 0.6),\n",
    "             label='random guessing')\n",
    "\n",
    "#     mean_tpr /= len(cv)\n",
    "#     mean_tpr[-1] = 1.0\n",
    "#     mean_auc = auc(mean_fpr, mean_tpr)\n",
    "#     plt.plot(mean_fpr, mean_tpr, 'k--',\n",
    "#              label='mean ROC (area = %0.2f)' % mean_auc, lw=2)\n",
    "    plt.plot([0, 0, 1],\n",
    "             [0, 1, 1],\n",
    "             lw=2,\n",
    "             linestyle=':',\n",
    "             color='black',\n",
    "             label='perfect performance')\n",
    "\n",
    "    plt.xlim([-0.05, 1.05])\n",
    "    plt.ylim([-0.05, 1.05])\n",
    "    plt.xlabel('false positive rate')\n",
    "    plt.ylabel('true positive rate')\n",
    "    plt.title('Receiver Operator Characteristic')\n",
    "    plt.legend(loc=\"lower right\")\n",
    "\n",
    "    plt.tight_layout()\n",
    "    # plt.savefig('./figures/roc.png', dpi=300)\n",
    "#     plt.show()\n",
    "\n",
    "#     display_adj_cm(, , adjacent_facies,display_metrics=True, hide_zeros=True)\n",
    "\n",
    "    fig, ax = plt.subplots(figsize=(5, 5))\n",
    "    ax.matshow(confmat, cmap=plt.cm.Blues, alpha=0.3)\n",
    "    for i in range(confmat.shape[0]):\n",
    "        for j in range(confmat.shape[1]):\n",
    "            ax.text(x=j, y=i, s=confmat[i, j], va='center', ha='center')\n",
    "\n",
    "#     display_cm(confmat, mineralization_labels, display_metrics=True, hide_zeros=True)\n",
    "#     # Plot normalized confusion matrix\n",
    "#     plt.figure(figsize=(20,10))\n",
    "#     plot_confusion_matrix(confmat, classes=mineralization_labels, normalize=True,\n",
    "#                       title='Normalized confusion matrix')\n",
    "    \n",
    "    \n",
    "#     plt.xlabel('predicted label')\n",
    "#     plt.ylabel('true label')\n",
    "\n",
    "#     plt.tight_layout()\n",
    "#     plt.show()\n",
    "    \n",
    "#     plt.figure()\n",
    "#     plt.title(\"Feature importances\")\n",
    "#     plt.bar(range(X_train.shape[1]), importances[indices],\n",
    "#        color=\"r\",  align=\"center\")\n",
    "#     plt.xticks(range(X_train.shape[1]), indices)\n",
    "#     plt.xlim([-1, X_train.shape[1]])\n",
    "#     plt.show()\n",
    "       \n",
    "    log_entry = pd.DataFrame([[name, accuracy*100, precision*100, recall*100, f1*100]], columns=log_cols)\n",
    "    log = log.append(log_entry)\n",
    "    \n",
    "print(\"=\"*30)"
   ]
  },
  {
   "cell_type": "code",
   "execution_count": null,
   "metadata": {
    "collapsed": false,
    "run_control": {
     "marked": true
    }
   },
   "outputs": [],
   "source": [
    "confmat"
   ]
  },
  {
   "cell_type": "code",
   "execution_count": null,
   "metadata": {
    "collapsed": false
   },
   "outputs": [],
   "source": [
    "plt.figure(figsize=(20,10))\n",
    "sns.heatmap(confmat, annot=True)"
   ]
  },
  {
   "cell_type": "code",
   "execution_count": null,
   "metadata": {
    "collapsed": false
   },
   "outputs": [],
   "source": [
    "import itertools\n",
    "\n",
    "def plot_confusion_matrix(cm, classes,\n",
    "                          normalize=False,\n",
    "                          title='Confusion matrix',\n",
    "                          cmap=plt.cm.Blues):\n",
    "    \"\"\"\n",
    "    This function prints and plots the confusion matrix.\n",
    "    Normalization can be applied by setting `normalize=True`.\n",
    "    \"\"\"\n",
    "    plt.imshow(cm, interpolation='nearest', cmap=cmap)\n",
    "    plt.title(title)\n",
    "    plt.colorbar()\n",
    "    tick_marks = np.arange(len(classes))\n",
    "    plt.xticks(tick_marks, classes, rotation=45)\n",
    "    plt.yticks(tick_marks, classes)\n",
    "\n",
    "    if normalize:\n",
    "        cm = cm.astype('float') / cm.sum(axis=1)[:, np.newaxis]\n",
    "        print(\"Normalized confusion matrix\")\n",
    "    else:\n",
    "        print('Confusion matrix, without normalization')\n",
    "\n",
    "    print(cm)\n",
    "\n",
    "    thresh = cm.max() / 2.\n",
    "    for i, j in itertools.product(range(cm.shape[0]), range(cm.shape[1])):\n",
    "        plt.text(j, i, cm[i, j],\n",
    "                 horizontalalignment=\"center\",\n",
    "                 color=\"white\" if cm[i, j] > thresh else \"black\")\n",
    "\n",
    "    plt.tight_layout()\n",
    "    plt.ylabel('True label')\n",
    "    plt.xlabel('Predicted label')\n",
    "\n",
    "# Compute confusion matrix\n",
    "# cnf_matrix = confusion_matrix(y_test, y_pred)\n",
    "np.set_printoptions(precision=2)\n",
    "\n",
    "# Plot non-normalized confusion matrix\n",
    "plt.figure()\n",
    "plot_confusion_matrix(confmat, classes=mineralization_labels,\n",
    "                      title='Confusion matrix, without normalization')\n",
    "\n",
    "# Plot normalized confusion matrix\n",
    "plt.figure()\n",
    "plot_confusion_matrix(confmat, classes=mineralization_labels, normalize=True,\n",
    "                      title='Normalized confusion matrix')\n",
    "\n",
    "plt.show()"
   ]
  },
  {
   "cell_type": "code",
   "execution_count": null,
   "metadata": {
    "collapsed": false
   },
   "outputs": [],
   "source": [
    "print(confmat)"
   ]
  },
  {
   "cell_type": "code",
   "execution_count": null,
   "metadata": {
    "collapsed": false
   },
   "outputs": [],
   "source": [
    "confmat[0:16,0:16]"
   ]
  },
  {
   "cell_type": "code",
   "execution_count": null,
   "metadata": {
    "collapsed": false
   },
   "outputs": [],
   "source": [
    "display_cm(confmat[1:10,1:10], mineralization_labels[1:10], display_metrics=True, hide_zeros=True)"
   ]
  },
  {
   "cell_type": "code",
   "execution_count": null,
   "metadata": {
    "collapsed": false
   },
   "outputs": [],
   "source": [
    "fig, ax = plt.subplots(figsize=(10, 10))\n",
    "ax.matshow(confmat[17:34,17:34], cmap=plt.cm.Blues, alpha=0.3)\n",
    "for i in range(17):\n",
    "    for j in range(17):\n",
    "        ax.text(x=j, y=i, s=confmat[i, j], va='center', ha='center')\n",
    "plt.tight_layout()\n",
    "plt.ylabel('True label')\n",
    "plt.xlabel('Predicted label')"
   ]
  },
  {
   "cell_type": "code",
   "execution_count": null,
   "metadata": {
    "collapsed": false
   },
   "outputs": [],
   "source": [
    "confmat.shape[0]"
   ]
  },
  {
   "cell_type": "code",
   "execution_count": 19,
   "metadata": {
    "collapsed": false
   },
   "outputs": [],
   "source": [
    "fpr, tpr, thresholds = metrics.roc_curve(y_test, test_predictions)"
   ]
  },
  {
   "cell_type": "code",
   "execution_count": 20,
   "metadata": {
    "collapsed": false
   },
   "outputs": [
    {
     "data": {
      "text/plain": [
       "array([ 0.       ,  0.0347946,  1.       ])"
      ]
     },
     "execution_count": 20,
     "metadata": {},
     "output_type": "execute_result"
    }
   ],
   "source": [
    "fpr"
   ]
  },
  {
   "cell_type": "code",
   "execution_count": 21,
   "metadata": {
    "collapsed": false
   },
   "outputs": [
    {
     "data": {
      "text/plain": [
       "array([ 0.        ,  0.99880526,  1.        ])"
      ]
     },
     "execution_count": 21,
     "metadata": {},
     "output_type": "execute_result"
    }
   ],
   "source": [
    "tpr"
   ]
  },
  {
   "cell_type": "code",
   "execution_count": 22,
   "metadata": {
    "collapsed": false
   },
   "outputs": [
    {
     "data": {
      "text/plain": [
       "array([ 0.,  0.,  0., ...,  0.,  0.,  0.])"
      ]
     },
     "execution_count": 22,
     "metadata": {},
     "output_type": "execute_result"
    }
   ],
   "source": [
    "y_test"
   ]
  },
  {
   "cell_type": "code",
   "execution_count": 23,
   "metadata": {
    "collapsed": false
   },
   "outputs": [
    {
     "data": {
      "text/plain": [
       "array([ 0.,  1.])"
      ]
     },
     "execution_count": 23,
     "metadata": {},
     "output_type": "execute_result"
    }
   ],
   "source": [
    "np.unique(y_test)"
   ]
  },
  {
   "cell_type": "code",
   "execution_count": 24,
   "metadata": {
    "collapsed": false
   },
   "outputs": [
    {
     "data": {
      "text/plain": [
       "array([ 0.,  0.,  0., ...,  0.,  0.,  0.])"
      ]
     },
     "execution_count": 24,
     "metadata": {},
     "output_type": "execute_result"
    }
   ],
   "source": [
    "test_predictions"
   ]
  },
  {
   "cell_type": "code",
   "execution_count": 26,
   "metadata": {
    "collapsed": false
   },
   "outputs": [
    {
     "data": {
      "text/plain": [
       "array([ 0.,  1.])"
      ]
     },
     "execution_count": 26,
     "metadata": {},
     "output_type": "execute_result"
    }
   ],
   "source": [
    "np.unique(test_predictions)"
   ]
  },
  {
   "cell_type": "code",
   "execution_count": null,
   "metadata": {
    "collapsed": true
   },
   "outputs": [],
   "source": []
  }
 ],
 "metadata": {
  "anaconda-cloud": {},
  "kernelspec": {
   "display_name": "Python [Root]",
   "language": "python",
   "name": "Python [Root]"
  },
  "language_info": {
   "codemirror_mode": {
    "name": "ipython",
    "version": 3
   },
   "file_extension": ".py",
   "mimetype": "text/x-python",
   "name": "python",
   "nbconvert_exporter": "python",
   "pygments_lexer": "ipython3",
   "version": "3.5.2"
  }
 },
 "nbformat": 4,
 "nbformat_minor": 0
}
