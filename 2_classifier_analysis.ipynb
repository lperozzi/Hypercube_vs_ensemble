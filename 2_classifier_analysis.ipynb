{
 "cells": [
  {
   "cell_type": "code",
   "execution_count": 1,
   "metadata": {
    "collapsed": false
   },
   "outputs": [
    {
     "name": "stdout",
     "output_type": "stream",
     "text": [
      "CPython 3.5.2\n",
      "IPython 5.1.0\n",
      "\n",
      "numpy 1.11.1\n",
      "scipy 0.18.0\n",
      "pandas 0.18.1\n",
      "matplotlib 1.5.1\n",
      "seaborn 0.7.1\n",
      "sklearn 0.19.dev0\n",
      "pywt 0.4.0\n",
      "\n",
      "compiler   : GCC 4.2.1 Compatible Apple LLVM 4.2 (clang-425.0.28)\n",
      "system     : Darwin\n",
      "release    : 16.0.0\n",
      "machine    : x86_64\n",
      "processor  : i386\n",
      "CPU cores  : 4\n",
      "interpreter: 64bit\n"
     ]
    }
   ],
   "source": [
    "%matplotlib inline\n",
    "%load_ext watermark\n",
    "%watermark -v -m -p numpy,scipy,pandas,matplotlib,seaborn,sklearn,pywt "
   ]
  },
  {
   "cell_type": "code",
   "execution_count": 2,
   "metadata": {
    "collapsed": true
   },
   "outputs": [],
   "source": [
    "import pandas as pd\n",
    "import numpy as np\n",
    "import matplotlib as mpl\n",
    "import matplotlib.pyplot as plt\n",
    "import matplotlib.colors as colors\n",
    "from mpl_toolkits.axes_grid1 import make_axes_locatable\n",
    "from collections import Counter\n",
    "#save plot display settings to change back to when done plotting with seaborn\n",
    "inline_rc = dict(mpl.rcParams)\n",
    "\n",
    "from pandas import set_option\n",
    "set_option(\"display.max_rows\", 10)\n",
    "pd.options.mode.chained_assignment = None"
   ]
  },
  {
   "cell_type": "code",
   "execution_count": 3,
   "metadata": {
    "collapsed": false
   },
   "outputs": [
    {
     "data": {
      "text/html": [
       "<div>\n",
       "<table border=\"1\" class=\"dataframe\">\n",
       "  <thead>\n",
       "    <tr style=\"text-align: right;\">\n",
       "      <th></th>\n",
       "      <th>Count_Fault_Crossing</th>\n",
       "      <th>Dist_2_CDI</th>\n",
       "      <th>distance_to_Fault_Network</th>\n",
       "      <th>Distance_to_AuGt150</th>\n",
       "      <th>Distance_to_CuGt2000</th>\n",
       "      <th>Distance_to_high_curvature_along_faults</th>\n",
       "      <th>GRAV_effective_density</th>\n",
       "      <th>Gravity_1VD</th>\n",
       "      <th>Gravity_Analytic_Signal</th>\n",
       "      <th>Kpct</th>\n",
       "      <th>PseudoLitho</th>\n",
       "      <th>RockCode</th>\n",
       "      <th>Thppm</th>\n",
       "      <th>TMI_1VD</th>\n",
       "      <th>TMI_Analytic_Signal</th>\n",
       "      <th>TMI_effective_susc</th>\n",
       "      <th>U_div_Th</th>\n",
       "      <th>Uppm</th>\n",
       "      <th>Outcome</th>\n",
       "      <th>class</th>\n",
       "    </tr>\n",
       "  </thead>\n",
       "  <tbody>\n",
       "    <tr>\n",
       "      <th>0</th>\n",
       "      <td>0.167869</td>\n",
       "      <td>1951.89</td>\n",
       "      <td>334.578</td>\n",
       "      <td>19599.8</td>\n",
       "      <td>5135.24</td>\n",
       "      <td>3073.00</td>\n",
       "      <td>0.230058</td>\n",
       "      <td>0.000756</td>\n",
       "      <td>0.001131</td>\n",
       "      <td>0.517956</td>\n",
       "      <td>4</td>\n",
       "      <td>1</td>\n",
       "      <td>11.5835</td>\n",
       "      <td>-0.000482</td>\n",
       "      <td>0.102906</td>\n",
       "      <td>0.332257</td>\n",
       "      <td>0.134642</td>\n",
       "      <td>1.55958</td>\n",
       "      <td>0.0</td>\n",
       "      <td>0</td>\n",
       "    </tr>\n",
       "    <tr>\n",
       "      <th>1</th>\n",
       "      <td>0.159692</td>\n",
       "      <td>1951.58</td>\n",
       "      <td>279.660</td>\n",
       "      <td>19523.0</td>\n",
       "      <td>5235.09</td>\n",
       "      <td>2997.63</td>\n",
       "      <td>0.229627</td>\n",
       "      <td>0.000765</td>\n",
       "      <td>0.001162</td>\n",
       "      <td>0.523862</td>\n",
       "      <td>4</td>\n",
       "      <td>1</td>\n",
       "      <td>11.7754</td>\n",
       "      <td>0.032979</td>\n",
       "      <td>0.172299</td>\n",
       "      <td>0.332192</td>\n",
       "      <td>0.135796</td>\n",
       "      <td>1.59911</td>\n",
       "      <td>0.0</td>\n",
       "      <td>0</td>\n",
       "    </tr>\n",
       "    <tr>\n",
       "      <th>2</th>\n",
       "      <td>0.153920</td>\n",
       "      <td>1951.30</td>\n",
       "      <td>224.744</td>\n",
       "      <td>19446.4</td>\n",
       "      <td>5334.95</td>\n",
       "      <td>2923.75</td>\n",
       "      <td>0.228073</td>\n",
       "      <td>0.000773</td>\n",
       "      <td>0.001192</td>\n",
       "      <td>0.505136</td>\n",
       "      <td>4</td>\n",
       "      <td>1</td>\n",
       "      <td>11.6611</td>\n",
       "      <td>0.099562</td>\n",
       "      <td>0.241855</td>\n",
       "      <td>0.330549</td>\n",
       "      <td>0.137801</td>\n",
       "      <td>1.60679</td>\n",
       "      <td>0.0</td>\n",
       "      <td>0</td>\n",
       "    </tr>\n",
       "    <tr>\n",
       "      <th>3</th>\n",
       "      <td>0.148629</td>\n",
       "      <td>1951.05</td>\n",
       "      <td>169.826</td>\n",
       "      <td>19370.0</td>\n",
       "      <td>5434.81</td>\n",
       "      <td>2851.46</td>\n",
       "      <td>0.225421</td>\n",
       "      <td>0.000782</td>\n",
       "      <td>0.001222</td>\n",
       "      <td>0.472606</td>\n",
       "      <td>4</td>\n",
       "      <td>1</td>\n",
       "      <td>11.1736</td>\n",
       "      <td>0.188753</td>\n",
       "      <td>0.307704</td>\n",
       "      <td>0.330063</td>\n",
       "      <td>0.139802</td>\n",
       "      <td>1.56175</td>\n",
       "      <td>0.0</td>\n",
       "      <td>0</td>\n",
       "    </tr>\n",
       "    <tr>\n",
       "      <th>4</th>\n",
       "      <td>0.143338</td>\n",
       "      <td>1950.88</td>\n",
       "      <td>114.908</td>\n",
       "      <td>19293.8</td>\n",
       "      <td>5534.67</td>\n",
       "      <td>2780.88</td>\n",
       "      <td>0.222033</td>\n",
       "      <td>0.000790</td>\n",
       "      <td>0.001253</td>\n",
       "      <td>0.442808</td>\n",
       "      <td>4</td>\n",
       "      <td>1</td>\n",
       "      <td>10.5124</td>\n",
       "      <td>0.284289</td>\n",
       "      <td>0.365465</td>\n",
       "      <td>0.328266</td>\n",
       "      <td>0.142308</td>\n",
       "      <td>1.49541</td>\n",
       "      <td>0.0</td>\n",
       "      <td>0</td>\n",
       "    </tr>\n",
       "  </tbody>\n",
       "</table>\n",
       "</div>"
      ],
      "text/plain": [
       "   Count_Fault_Crossing  Dist_2_CDI  distance_to_Fault_Network  \\\n",
       "0              0.167869     1951.89                    334.578   \n",
       "1              0.159692     1951.58                    279.660   \n",
       "2              0.153920     1951.30                    224.744   \n",
       "3              0.148629     1951.05                    169.826   \n",
       "4              0.143338     1950.88                    114.908   \n",
       "\n",
       "   Distance_to_AuGt150  Distance_to_CuGt2000  \\\n",
       "0              19599.8               5135.24   \n",
       "1              19523.0               5235.09   \n",
       "2              19446.4               5334.95   \n",
       "3              19370.0               5434.81   \n",
       "4              19293.8               5534.67   \n",
       "\n",
       "   Distance_to_high_curvature_along_faults  GRAV_effective_density  \\\n",
       "0                                  3073.00                0.230058   \n",
       "1                                  2997.63                0.229627   \n",
       "2                                  2923.75                0.228073   \n",
       "3                                  2851.46                0.225421   \n",
       "4                                  2780.88                0.222033   \n",
       "\n",
       "   Gravity_1VD  Gravity_Analytic_Signal      Kpct  PseudoLitho  RockCode  \\\n",
       "0     0.000756                 0.001131  0.517956            4         1   \n",
       "1     0.000765                 0.001162  0.523862            4         1   \n",
       "2     0.000773                 0.001192  0.505136            4         1   \n",
       "3     0.000782                 0.001222  0.472606            4         1   \n",
       "4     0.000790                 0.001253  0.442808            4         1   \n",
       "\n",
       "     Thppm   TMI_1VD  TMI_Analytic_Signal  TMI_effective_susc  U_div_Th  \\\n",
       "0  11.5835 -0.000482             0.102906            0.332257  0.134642   \n",
       "1  11.7754  0.032979             0.172299            0.332192  0.135796   \n",
       "2  11.6611  0.099562             0.241855            0.330549  0.137801   \n",
       "3  11.1736  0.188753             0.307704            0.330063  0.139802   \n",
       "4  10.5124  0.284289             0.365465            0.328266  0.142308   \n",
       "\n",
       "      Uppm  Outcome  class  \n",
       "0  1.55958      0.0      0  \n",
       "1  1.59911      0.0      0  \n",
       "2  1.60679      0.0      0  \n",
       "3  1.56175      0.0      0  \n",
       "4  1.49541      0.0      0  "
      ]
     },
     "execution_count": 3,
     "metadata": {},
     "output_type": "execute_result"
    }
   ],
   "source": [
    "dataset_training = pd.read_pickle('data/Dataset_all_training.pkl')\n",
    "dataset_training.head()"
   ]
  },
  {
   "cell_type": "code",
   "execution_count": 4,
   "metadata": {
    "collapsed": true
   },
   "outputs": [],
   "source": [
    "# x = dataset_training.drop(['Outcome','class'], axis=1).values\n",
    "x = dataset_training.drop(['Outcome','class','Distance_to_AuGt150','Distance_to_CuGt2000'], axis=1).values\n",
    "y = dataset_training[['Outcome','class']].values\n",
    "y1 = y[:,0]"
   ]
  },
  {
   "cell_type": "code",
   "execution_count": 5,
   "metadata": {
    "collapsed": false
   },
   "outputs": [
    {
     "name": "stdout",
     "output_type": "stream",
     "text": [
      "(494244, 16)\n",
      "(494244,)\n",
      "(254612, 16)\n",
      "(254612,)\n",
      "dict_values([253775, 25, 27, 30, 22, 31, 24, 23, 24, 25, 28, 28, 12, 22, 25, 25, 17, 27, 32, 36, 24, 24, 17, 34, 25, 25, 23, 25, 26, 24, 31, 27, 25, 24])\n",
      "dict_values([492631, 53, 53, 49, 56, 49, 55, 41, 50, 52, 51, 49, 36, 52, 54, 52, 20, 42, 47, 41, 54, 46, 43, 34, 55, 54, 56, 56, 53, 55, 47, 48, 54, 56])\n"
     ]
    }
   ],
   "source": [
    "from sklearn.model_selection import train_test_split\n",
    "\n",
    "X_train, X_test, y_train, y_test = train_test_split(\n",
    "        x, y1, train_size=0.66, random_state=1)\n",
    "\n",
    "print(X_train.shape)\n",
    "print(y_train.shape)\n",
    "print(X_test.shape)\n",
    "print(y_test.shape)\n",
    "print(Counter(y_test).values())\n",
    "print(Counter(y_train).values())"
   ]
  },
  {
   "cell_type": "code",
   "execution_count": 6,
   "metadata": {
    "collapsed": false
   },
   "outputs": [
    {
     "data": {
      "text/plain": [
       "<matplotlib.axes._subplots.AxesSubplot at 0x12367a4a8>"
      ]
     },
     "execution_count": 6,
     "metadata": {},
     "output_type": "execute_result"
    },
    {
     "data": {
      "image/png": "[encoded data removed]",
      "text/plain": [
       "<matplotlib.figure.Figure at 0x10a98da58>"
      ]
     },
     "metadata": {},
     "output_type": "display_data"
    }
   ],
   "source": [
    "import seaborn as sns\n",
    "# sns.set()\n",
    "sns.countplot(y_train)"
   ]
  },
  {
   "cell_type": "code",
   "execution_count": 7,
   "metadata": {
    "collapsed": true
   },
   "outputs": [],
   "source": [
    "# from http://stackoverflow.com/a/23479973\n",
    "\n",
    "def balanced_subsample(x,y,subsample_size=1.0):\n",
    "\n",
    "    class_xs = []\n",
    "    min_elems = None\n",
    "\n",
    "    for yi in np.unique(y):\n",
    "        elems = x[(y == yi)]\n",
    "        class_xs.append((yi, elems))\n",
    "        if min_elems == None or elems.shape[0] < min_elems:\n",
    "            min_elems = elems.shape[0]\n",
    "\n",
    "    use_elems = min_elems\n",
    "    if subsample_size < 1:\n",
    "        use_elems = int(min_elems*subsample_size)\n",
    "\n",
    "    xs = []\n",
    "    ys = []\n",
    "\n",
    "    for ci,this_xs in class_xs:\n",
    "        if len(this_xs) > use_elems:\n",
    "            np.random.shuffle(this_xs)\n",
    "\n",
    "        x_ = this_xs[:use_elems]\n",
    "        y_ = np.empty(use_elems)\n",
    "        y_.fill(ci)\n",
    "\n",
    "        xs.append(x_)\n",
    "        ys.append(y_)\n",
    "\n",
    "    xs = np.concatenate(xs)\n",
    "    ys = np.concatenate(ys)\n",
    "\n",
    "    return xs,ys"
   ]
  },
  {
   "cell_type": "code",
   "execution_count": 8,
   "metadata": {
    "collapsed": false
   },
   "outputs": [
    {
     "name": "stdout",
     "output_type": "stream",
     "text": [
      "(680, 16)\n",
      "(680,)\n"
     ]
    },
    {
     "data": {
      "text/plain": [
       "<matplotlib.axes._subplots.AxesSubplot at 0x1303f8a90>"
      ]
     },
     "execution_count": 8,
     "metadata": {},
     "output_type": "execute_result"
    },
    {
     "data": {
      "image/png": "[encoded data removed]",
      "text/plain": [
       "<matplotlib.figure.Figure at 0x1303f8fd0>"
      ]
     },
     "metadata": {},
     "output_type": "display_data"
    }
   ],
   "source": [
    "Xs_train,ys_train = balanced_subsample(X_train,y_train,subsample_size=1.0)\n",
    "\n",
    "print(Xs_train.shape)\n",
    "print(ys_train.shape)\n",
    "sns.countplot(ys_train)"
   ]
  },
  {
   "cell_type": "code",
   "execution_count": 9,
   "metadata": {
    "collapsed": true
   },
   "outputs": [],
   "source": [
    "from sklearn import ensemble\n",
    "from sklearn import metrics\n",
    "from sklearn.metrics import confusion_matrix\n",
    "from sklearn.metrics import classification_report"
   ]
  },
  {
   "cell_type": "code",
   "execution_count": 10,
   "metadata": {
    "collapsed": true
   },
   "outputs": [],
   "source": [
    "classifiers = [\n",
    "    ensemble.RandomForestClassifier(n_estimators=100),\n",
    "    ensemble.GradientBoostingClassifier(n_estimators=100, max_depth=30),\n",
    "    ensemble.AdaBoostClassifier()]"
   ]
  },
  {
   "cell_type": "code",
   "execution_count": 11,
   "metadata": {
    "collapsed": false
   },
   "outputs": [
    {
     "name": "stdout",
     "output_type": "stream",
     "text": [
      "==============================\n",
      "RandomForestClassifier\n",
      "****Results****\n",
      "\n",
      "Accuracy: 62.4362%\n",
      "Precision: 62.4362%\n",
      "Recall: 62.4362%\n",
      "F1 score: 62.4362%\n",
      "\n",
      "Classification report:\n",
      "\n",
      "             precision    recall  f1-score   support\n",
      "\n",
      "        0.0       1.00      0.62      0.77    253775\n",
      "        1.0       0.01      1.00      0.02        25\n",
      "        2.0       0.03      1.00      0.06        27\n",
      "        3.0       0.01      1.00      0.01        30\n",
      "        4.0       0.01      1.00      0.02        22\n",
      "        5.0       0.02      1.00      0.03        31\n",
      "        6.0       0.00      1.00      0.01        24\n",
      "        7.0       0.01      1.00      0.01        23\n",
      "        8.0       0.01      1.00      0.03        24\n",
      "        9.0       0.01      1.00      0.01        25\n",
      "       10.0       0.01      1.00      0.02        28\n",
      "       11.0       0.01      1.00      0.01        28\n",
      "       12.0       0.00      0.83      0.01        12\n",
      "       13.0       0.01      1.00      0.03        22\n",
      "       14.0       0.01      1.00      0.03        25\n",
      "       15.0       0.00      1.00      0.01        25\n",
      "       16.0       0.04      1.00      0.08        17\n",
      "       17.0       0.01      0.96      0.02        27\n",
      "       18.0       0.02      0.94      0.04        32\n",
      "       19.0       0.01      1.00      0.03        36\n",
      "       20.0       0.01      1.00      0.01        24\n",
      "       21.0       0.08      1.00      0.15        24\n",
      "       22.0       0.03      0.82      0.07        17\n",
      "       23.0       0.08      0.82      0.14        34\n",
      "       24.0       0.01      0.96      0.03        25\n",
      "       25.0       0.01      1.00      0.01        25\n",
      "       26.0       0.01      1.00      0.01        23\n",
      "       27.0       0.01      1.00      0.03        25\n",
      "       28.0       0.01      1.00      0.02        26\n",
      "       29.0       0.01      1.00      0.02        24\n",
      "       30.0       0.00      1.00      0.01        31\n",
      "       31.0       0.01      1.00      0.01        27\n",
      "       32.0       0.01      1.00      0.01        25\n",
      "       33.0       0.02      0.96      0.05        24\n",
      "\n",
      "avg / total       1.00      0.62      0.77    254612\n",
      "\n"
     ]
    },
    {
     "data": {
      "image/png": "[encoded data removed]",
      "text/plain": [
       "<matplotlib.figure.Figure at 0x1042677b8>"
      ]
     },
     "metadata": {},
     "output_type": "display_data"
    },
    {
     "data": {
      "image/png": "[encoded data removed]",
      "text/plain": [
       "<matplotlib.figure.Figure at 0x11b266ef0>"
      ]
     },
     "metadata": {},
     "output_type": "display_data"
    },
    {
     "name": "stdout",
     "output_type": "stream",
     "text": [
      "==============================\n",
      "GradientBoostingClassifier\n",
      "****Results****\n",
      "\n",
      "Accuracy: 48.5955%\n",
      "Precision: 48.5955%\n",
      "Recall: 48.5955%\n",
      "F1 score: 48.5955%\n",
      "\n",
      "Classification report:\n",
      "\n",
      "             precision    recall  f1-score   support\n",
      "\n",
      "        0.0       1.00      0.48      0.65    253775\n",
      "        1.0       0.01      1.00      0.02        25\n",
      "        2.0       0.02      0.96      0.04        27\n",
      "        3.0       0.01      1.00      0.01        30\n",
      "        4.0       0.01      1.00      0.02        22\n",
      "        5.0       0.01      1.00      0.02        31\n",
      "        6.0       0.00      1.00      0.01        24\n",
      "        7.0       0.02      1.00      0.03        23\n",
      "        8.0       0.01      0.92      0.02        24\n",
      "        9.0       0.00      1.00      0.00        25\n",
      "       10.0       0.01      0.89      0.02        28\n",
      "       11.0       0.00      0.86      0.01        28\n",
      "       12.0       0.00      0.83      0.01        12\n",
      "       13.0       0.01      0.86      0.01        22\n",
      "       14.0       0.11      0.92      0.20        25\n",
      "       15.0       0.01      0.72      0.01        25\n",
      "       16.0       0.02      0.88      0.05        17\n",
      "       17.0       0.00      1.00      0.01        27\n",
      "       18.0       0.03      0.94      0.05        32\n",
      "       19.0       0.00      0.92      0.01        36\n",
      "       20.0       0.00      0.83      0.00        24\n",
      "       21.0       0.18      0.67      0.28        24\n",
      "       22.0       0.01      0.82      0.02        17\n",
      "       23.0       0.02      0.79      0.04        34\n",
      "       24.0       0.01      0.92      0.01        25\n",
      "       25.0       0.04      0.76      0.07        25\n",
      "       26.0       0.00      1.00      0.01        23\n",
      "       27.0       0.02      0.88      0.03        25\n",
      "       28.0       0.02      0.88      0.03        26\n",
      "       29.0       0.02      0.96      0.04        24\n",
      "       30.0       0.02      1.00      0.04        31\n",
      "       31.0       0.01      0.89      0.01        27\n",
      "       32.0       0.02      1.00      0.04        25\n",
      "       33.0       0.01      1.00      0.03        24\n",
      "\n",
      "avg / total       1.00      0.49      0.65    254612\n",
      "\n"
     ]
    },
    {
     "data": {
      "image/png": "[encoded data removed]",
      "text/plain": [
       "<matplotlib.figure.Figure at 0x129705e10>"
      ]
     },
     "metadata": {},
     "output_type": "display_data"
    },
    {
     "data": {
      "image/png": "[encoded data removed]",
      "text/plain": [
       "<matplotlib.figure.Figure at 0x1292adb00>"
      ]
     },
     "metadata": {},
     "output_type": "display_data"
    },
    {
     "name": "stdout",
     "output_type": "stream",
     "text": [
      "==============================\n",
      "AdaBoostClassifier\n",
      "****Results****\n",
      "\n",
      "Accuracy: 59.0813%\n",
      "Precision: 59.0813%\n",
      "Recall: 59.0813%\n",
      "F1 score: 59.0813%\n",
      "\n",
      "Classification report:\n",
      "\n",
      "             precision    recall  f1-score   support\n",
      "\n",
      "        0.0       1.00      0.59      0.74    253775\n",
      "        1.0       0.00      0.00      0.00        25\n",
      "        2.0       0.00      0.00      0.00        27\n",
      "        3.0       0.00      0.00      0.00        30\n",
      "        4.0       0.00      0.00      0.00        22\n",
      "        5.0       0.08      1.00      0.16        31\n",
      "        6.0       0.00      0.00      0.00        24\n",
      "        7.0       0.00      1.00      0.00        23\n",
      "        8.0       0.00      0.00      0.00        24\n",
      "        9.0       0.00      0.00      0.00        25\n",
      "       10.0       0.00      0.00      0.00        28\n",
      "       11.0       0.00      0.00      0.00        28\n",
      "       12.0       0.00      0.00      0.00        12\n",
      "       13.0       0.00      0.00      0.00        22\n",
      "       14.0       0.00      0.00      0.00        25\n",
      "       15.0       0.00      0.00      0.00        25\n",
      "       16.0       0.00      0.00      0.00        17\n",
      "       17.0       0.00      0.00      0.00        27\n",
      "       18.0       0.00      1.00      0.00        32\n",
      "       19.0       0.00      0.00      0.00        36\n",
      "       20.0       0.00      0.00      0.00        24\n",
      "       21.0       0.00      0.00      0.00        24\n",
      "       22.0       0.00      0.00      0.00        17\n",
      "       23.0       0.00      0.00      0.00        34\n",
      "       24.0       0.00      0.00      0.00        25\n",
      "       25.0       0.00      0.00      0.00        25\n",
      "       26.0       0.00      0.00      0.00        23\n",
      "       27.0       0.00      0.00      0.00        25\n",
      "       28.0       0.00      0.00      0.00        26\n",
      "       29.0       0.00      0.00      0.00        24\n",
      "       30.0       0.00      0.00      0.00        31\n",
      "       31.0       0.00      0.00      0.00        27\n",
      "       32.0       0.00      0.00      0.00        25\n",
      "       33.0       0.00      0.00      0.00        24\n",
      "\n",
      "avg / total       1.00      0.59      0.74    254612\n",
      "\n"
     ]
    },
    {
     "name": "stderr",
     "output_type": "stream",
     "text": [
      "/Users/lorenzoperozzi/anaconda3/lib/python3.5/site-packages/sklearn/metrics/classification.py:1113: UndefinedMetricWarning: Precision and F-score are ill-defined and being set to 0.0 in labels with no predicted samples.\n",
      "  'precision', 'predicted', average, warn_for)\n"
     ]
    },
    {
     "data": {
      "image/png": "[encoded data removed]",
      "text/plain": [
       "<matplotlib.figure.Figure at 0x11b0547f0>"
      ]
     },
     "metadata": {},
     "output_type": "display_data"
    },
    {
     "data": {
      "image/png": "[encoded data removed]",
      "text/plain": [
       "<matplotlib.figure.Figure at 0x118b65d30>"
      ]
     },
     "metadata": {},
     "output_type": "display_data"
    },
    {
     "name": "stdout",
     "output_type": "stream",
     "text": [
      "==============================\n"
     ]
    }
   ],
   "source": [
    "sns.reset_orig()\n",
    "# Logging for Visual Comparison\n",
    "log_cols=[\"Classifier\", \"Accuracy\", \"Precision\", \"Recall\", \"F1-score\"]\n",
    "log = pd.DataFrame(columns=log_cols)\n",
    "\n",
    "for clf in classifiers:\n",
    "    clf.fit(Xs_train, ys_train)\n",
    "    name = clf.__class__.__name__\n",
    "    importances = clf.feature_importances_\n",
    "#     std = np.std([tree.feature_importances_ for tree in clf.estimators_],axis=0)\n",
    "    indices = np.argsort(importances)[::-1]\n",
    "    print(\"=\"*30)\n",
    "    print(name)\n",
    "    \n",
    "    print('****Results****\\n')\n",
    "    test_predictions = clf.predict(X_test)\n",
    "    \n",
    "    accuracy = metrics.accuracy_score(y_test, test_predictions)\n",
    "    print(\"Accuracy: {:.4%}\".format(accuracy))\n",
    "   \n",
    "\n",
    "    precision = metrics.precision_score(y_test, test_predictions, average='micro')\n",
    "    print(\"Precision: {:.4%}\".format(precision))\n",
    "    \n",
    "    recall = metrics.recall_score(y_test, test_predictions, average='micro')\n",
    "    print(\"Recall: {:.4%}\".format(recall))\n",
    "    \n",
    "    f1 = metrics.f1_score(y_test, test_predictions, average='micro')\n",
    "    print(\"F1 score: {:.4%}\\n\".format(f1))\n",
    "    \n",
    "    print('Classification report:\\n')\n",
    "    print(classification_report(y_test, test_predictions))\n",
    "    \n",
    "    confmat = confusion_matrix(y_true=y_test, y_pred=test_predictions)\n",
    "    fig, ax = plt.subplots(figsize=(2.5, 2.5))\n",
    "    ax.matshow(confmat, cmap=plt.cm.Blues, alpha=0.3)\n",
    "    for i in range(confmat.shape[0]):\n",
    "        for j in range(confmat.shape[1]):\n",
    "            ax.text(x=j, y=i, s=confmat[i, j], va='center', ha='center')\n",
    "\n",
    "    plt.xlabel('predicted label')\n",
    "    plt.ylabel('true label')\n",
    "\n",
    "    plt.tight_layout()\n",
    "    plt.show()\n",
    "    \n",
    "    plt.figure()\n",
    "    plt.title(\"Feature importances\")\n",
    "    plt.bar(range(X_train.shape[1]), importances[indices],\n",
    "       color=\"r\",  align=\"center\")\n",
    "    plt.xticks(range(X_train.shape[1]), indices)\n",
    "    plt.xlim([-1, X_train.shape[1]])\n",
    "    plt.show()\n",
    "       \n",
    "    log_entry = pd.DataFrame([[name, accuracy*100, precision*100, recall*100, f1*100]], columns=log_cols)\n",
    "    log = log.append(log_entry)\n",
    "    \n",
    "print(\"=\"*30)"
   ]
  },
  {
   "cell_type": "code",
   "execution_count": null,
   "metadata": {
    "collapsed": true
   },
   "outputs": [],
   "source": []
  }
 ],
 "metadata": {
  "anaconda-cloud": {},
  "kernelspec": {
   "display_name": "Python [Root]",
   "language": "python",
   "name": "Python [Root]"
  },
  "language_info": {
   "codemirror_mode": {
    "name": "ipython",
    "version": 3
   },
   "file_extension": ".py",
   "mimetype": "text/x-python",
   "name": "python",
   "nbconvert_exporter": "python",
   "pygments_lexer": "ipython3",
   "version": "3.5.2"
  }
 },
 "nbformat": 4,
 "nbformat_minor": 0
}
